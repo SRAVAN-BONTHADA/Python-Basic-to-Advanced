{
 "cells": [
  {
   "cell_type": "markdown",
   "id": "fe9af271",
   "metadata": {},
   "source": [
    "# Types of Operators in Python\n",
    "\n",
    "In Python, operators are special symbols or keywords used to perform operations on operands. \n",
    "OPERATORS: These are the special symbols. Eg- + , * , /, etc.\n",
    "OPERAND: It is the values(3,4,78.8,78,'strings') on which the operator is applied.\n",
    "This guide covers various types of operators and their usage.\n",
    "\n",
    "## 1. Arithmetic Operators\n",
    "\n",
    "Arithmetic operators are used to perform mathematical operations.\n",
    "\n",
    "- **Addition (`+`)**: Adds two operands.\n",
    "- **Subtraction (`-`)**: Subtracts the right operand from the left operand.\n",
    "- **Multiplication (`*`)**: Multiplies two operands.\n",
    "- **Division (`/`)**: Divides the left operand by the right operand (result is always a float).\n",
    "- **Floor Division (`//`)**: Divides and rounds down to the nearest integer.\n",
    "- **Modulus (`%`)**: Returns the remainder of the division.\n",
    "- **Exponentiation (`**`)**: Raises the left operand to the power of the right operand.\n",
    "\n",
    "## 2. Comparison Operators\n",
    "\n",
    "Comparison operators are used to compare two values.\n",
    "\n",
    "- **Greater Than (`>`)**: Returns `True` if the left operand is greater than the right operand.\n",
    "- **Less Than (`<`)**: Returns `True` if the left operand is less than the right operand.\n",
    "- **Equal To (`==`)**: Returns `True` if the operands are equal.\n",
    "- **Not Equal To (`!=`)**: Returns `True` if the operands are not equal.\n",
    "- **Greater Than or Equal To (`>=`)**: Returns `True` if the left operand is greater than or equal to the right operand.\n",
    "- **Less Than or Equal To (`<=`)**: Returns `True` if the left operand is less than or equal to the right operand.\n",
    "\n",
    "## 3. Logical Operators\n",
    "\n",
    "Logical operators are used to perform logical operations.\n",
    "\n",
    "- **and**: Returns `True` if both operands are `True`.\n",
    "- **or**: Returns `True` if at least one operand is `True`.\n",
    "- **not**: Returns `True` if the operand is `False`, and `False` if the operand is `True`.\n",
    "\n",
    "## 4. Bitwise Operators\n",
    "\n",
    "Bitwise operators perform operations on individual bits of binary numbers.\n",
    "\n",
    "- **AND (`&`)**: Bitwise AND.\n",
    "- **OR (`|`)**: Bitwise OR.\n",
    "- **NOT (`~`)**: Bitwise NOT (inverts bits).\n",
    "- **XOR (`^`)**: Bitwise XOR.\n",
    "- **Right Shift (`>>`)**: Shifts bits to the right.\n",
    "- **Left Shift (`<<`)**: Shifts bits to the left.\n",
    "\n",
    "## 5. Assignment Operators\n",
    "\n",
    "Assignment operators are used to assign values to variables.\n",
    "\n",
    "- `=`: Assigns the value of the right operand to the left operand.\n",
    "- `+=`: Adds right operand to the left operand and assigns the result to the left operand.\n",
    "- `-=`: Subtracts right operand from the left operand and assigns the result to the left operand.\n",
    "- `*=`: Multiplies the left operand by the right operand and assigns the result to the left operand.\n",
    "- `/=`: Divides the left operand by the right operand and assigns the result to the left operand.\n",
    "- `%=`: Computes the modulus of the left operand with the right operand and assigns the result to the left operand.\n",
    "- `//=`: Computes floor division of the left operand with the right operand and assigns the result to the left operand.\n",
    "- `**=`: Raises the left operand to the power of the right operand and assigns the result to the left operand.\n",
    "- `&=`: Bitwise AND and assigns the result to the left operand.\n",
    "- `|=`: Bitwise OR and assigns the result to the left operand.\n",
    "- `^=`: Bitwise XOR and assigns the result to the left operand.\n",
    "- `~=`: Bitwise NOT and assigns the result to the left operand.\n",
    "- `>>=`: Shifts bits to the right and assigns the result to the left operand.\n",
    "- `<<=`: Shifts bits to the left and assigns the result to the left operand.\n",
    "\n",
    "## 6. Identity Operators\n",
    "\n",
    "Identity operators are used to compare the memory locations of two objects.\n",
    "\n",
    "- **is**: Returns `True` if both operands are the same object.\n",
    "- **is not**: Returns `True` if both operands are different objects.\n",
    "\n",
    "## 7. Membership Operators\n",
    "\n",
    "Membership operators are used to check for membership within a sequence.\n",
    "\n",
    "- **in**: Returns `True` if the left operand is present in the right operand (a sequence).\n",
    "- **not in**: Returns `True` if the left operand is not present in the right operand (a sequence).\n"
   ]
  },
  {
   "cell_type": "code",
   "execution_count": 7,
   "id": "ab6c5761",
   "metadata": {},
   "outputs": [
    {
     "data": {
      "text/plain": [
       "0.0"
      ]
     },
     "execution_count": 7,
     "metadata": {},
     "output_type": "execute_result"
    }
   ],
   "source": [
    "2*3/3+1-1-2"
   ]
  },
  {
   "cell_type": "code",
   "execution_count": 8,
   "id": "0dc4ecfc",
   "metadata": {},
   "outputs": [
    {
     "data": {
      "text/plain": [
       "-1.5"
      ]
     },
     "execution_count": 8,
     "metadata": {},
     "output_type": "execute_result"
    }
   ],
   "source": [
    "2*3/(3+1)-1-2"
   ]
  },
  {
   "cell_type": "code",
   "execution_count": 11,
   "id": "72ff7fc2",
   "metadata": {},
   "outputs": [
    {
     "data": {
      "text/plain": [
       "-8.0"
      ]
     },
     "execution_count": 11,
     "metadata": {},
     "output_type": "execute_result"
    }
   ],
   "source": [
    "2*3/(3+3)-3**2  "
   ]
  },
  {
   "cell_type": "code",
   "execution_count": 12,
   "id": "ea99353c",
   "metadata": {},
   "outputs": [
    {
     "data": {
      "text/plain": [
       "90.0"
      ]
     },
     "execution_count": 12,
     "metadata": {},
     "output_type": "execute_result"
    }
   ],
   "source": [
    "100 + 200 / 10 - 3 * 10"
   ]
  },
  {
   "cell_type": "code",
   "execution_count": null,
   "id": "f9dd4d90",
   "metadata": {},
   "outputs": [],
   "source": []
  },
  {
   "cell_type": "markdown",
   "id": "dd6083f5",
   "metadata": {},
   "source": [
    "Operator precedence and associativity are rules that dictate the order in which operators are evaluated in an expression when there are multiple operators present. This ensures that expressions are evaluated consistently and unambiguously.\n",
    "\n",
    "In Python, as in many programming languages, operators have specific precedence levels, and operators with higher precedence are evaluated before operators with lower precedence. If operators have the same precedence, the associativity comes into play to determine the order of evaluation.\n",
    "\n",
    "operator precedence and associativity in Python:\n",
    "\n",
    "### Operator Precedence:\n",
    "Operators in Python have varying levels of precedence. Operators with higher precedence are evaluated before operators with lower precedence.\n",
    "\n",
    "1. **Parentheses:**\n",
    "   - `()` (parentheses) have the highest precedence, and expressions within parentheses are evaluated first.\n",
    "\n",
    "2. **Exponentiation:**\n",
    "   - `**` (exponentiation) has the next highest precedence.\n",
    "\n",
    "3. **Multiplication, Division, Modulo:**\n",
    "   - `*` (multiplication), `/` (division), and `%` (modulo) have the same precedence and are evaluated from left to right.\n",
    "\n",
    "4. **Addition and Subtraction:**\n",
    "   - `+` (addition) and `-` (subtraction) have the same precedence and are evaluated from left to right.\n",
    "\n",
    "5. **Bitwise Shifts:**\n",
    "   - `<<` (left shift) and `>>` (right shift) have the same precedence and are evaluated from left to right.\n",
    "\n",
    "6. **Bitwise AND, OR, XOR:**\n",
    "   - `&` (bitwise AND), `|` (bitwise OR), and `^` (bitwise XOR) have the same precedence and are evaluated from left to right.\n",
    "\n",
    "7. **Comparisons:**\n",
    "   - `<`, `<=`, `>`, `>=` (comparison operators) have the same precedence and are evaluated from left to right.\n",
    "\n",
    "8. **Equality:**\n",
    "   - `==`, `!=` (equality operators) have the same precedence and are evaluated from left to right.\n",
    "\n",
    "9. **Logical NOT, AND, OR:**\n",
    "   - `not`, `and`, `or` (logical operators) have different precedence levels.\n",
    "\n",
    "10. **Conditional Expression (Ternary Operator):**\n",
    "   - `if else` has the lowest precedence.\n",
    "\n",
    "### Operator Associativity:\n",
    "Operator associativity determines the order of evaluation when operators of the same precedence appear consecutively in an expression.\n",
    "\n",
    "- **Left Associative:** Operators are evaluated from left to right.\n",
    "  - Example: `a + b + c` is evaluated as `(a + b) + c`.\n",
    "\n",
    "- **Right Associative:** Operators are evaluated from right to left.\n",
    "  - Example: Assignment operators (`=`) are right associative."
   ]
  },
  {
   "cell_type": "code",
   "execution_count": 42,
   "id": "5c15d5dd",
   "metadata": {
    "scrolled": true
   },
   "outputs": [
    {
     "data": {
      "text/html": [
       "<img src=\"https://techvidvan.com/tutorials/wp-content/uploads/sites/2/2019/12/python-precedence-meme.jpg\"/>"
      ],
      "text/plain": [
       "<IPython.core.display.Image object>"
      ]
     },
     "execution_count": 42,
     "metadata": {},
     "output_type": "execute_result"
    }
   ],
   "source": [
    "Image(url = 'https://techvidvan.com/tutorials/wp-content/uploads/sites/2/2019/12/python-precedence-meme.jpg')"
   ]
  },
  {
   "cell_type": "markdown",
   "id": "9dcf1663",
   "metadata": {},
   "source": [
    "### Preceding from (),**,*,/,%,+,-,<<,>>,&,|,^,<,<=,>,=>,==,!="
   ]
  },
  {
   "cell_type": "code",
   "execution_count": 34,
   "id": "be22ca54",
   "metadata": {},
   "outputs": [
    {
     "data": {
      "text/plain": [
       "-3"
      ]
     },
     "execution_count": 34,
     "metadata": {},
     "output_type": "execute_result"
    }
   ],
   "source": [
    "((((6+4)*2)-10)//2)-4*2"
   ]
  },
  {
   "cell_type": "raw",
   "id": "f7ce5cf3",
   "metadata": {},
   "source": [
    "(6+4) = 10\n",
    "(10*2) = 20\n",
    "(20-10) = 10\n",
    "(10//2) = 5\n",
    "4*2 = 8\n",
    "5-8 = -3"
   ]
  },
  {
   "cell_type": "code",
   "execution_count": 36,
   "id": "c7754a20",
   "metadata": {},
   "outputs": [
    {
     "data": {
      "text/html": [
       "<img src=\"https://study.com/cimages/multimages/16/divparts8973419354078479641.png\"/>"
      ],
      "text/plain": [
       "<IPython.core.display.Image object>"
      ]
     },
     "execution_count": 36,
     "metadata": {},
     "output_type": "execute_result"
    }
   ],
   "source": [
    "Image(url = 'https://study.com/cimages/multimages/16/divparts8973419354078479641.png')"
   ]
  },
  {
   "cell_type": "code",
   "execution_count": 35,
   "id": "06896b35",
   "metadata": {},
   "outputs": [
    {
     "data": {
      "text/plain": [
       "8.0"
      ]
     },
     "execution_count": 35,
     "metadata": {},
     "output_type": "execute_result"
    }
   ],
   "source": [
    "(24 ** 2 // 4 % 25 / 19 * 8) # % will give quotient value \n",
    "# step1 :- 24*24 = 576\n",
    "# step2 :- 576//4 = 144\n",
    "# step3 :- 144 % 25 = 19\n",
    "# step4 :- 19 / 19 = 1\n",
    "# result :- 1 * 8 = 8"
   ]
  },
  {
   "cell_type": "code",
   "execution_count": 38,
   "id": "b7d82264",
   "metadata": {},
   "outputs": [
    {
     "data": {
      "text/plain": [
       "19"
      ]
     },
     "execution_count": 38,
     "metadata": {},
     "output_type": "execute_result"
    }
   ],
   "source": [
    "144 % 25"
   ]
  },
  {
   "cell_type": "code",
   "execution_count": 39,
   "id": "c3acc890",
   "metadata": {},
   "outputs": [
    {
     "data": {
      "text/plain": [
       "0.0"
      ]
     },
     "execution_count": 39,
     "metadata": {},
     "output_type": "execute_result"
    }
   ],
   "source": [
    "(1+1)*2/1%1+1-1\n",
    "# Parentheses:\n",
    "# (1 + 1) = 2.\n",
    "\n",
    "# Multiplication and Division:\n",
    "# 2 * 2 = 4.\n",
    "\n",
    "# Modulus:\n",
    "# 4 % 1 = 0 (remainder of the division of 4 by 1).(4/1 = 1)\n",
    "\n",
    "# Addition and Subtraction:\n",
    "\n",
    "# 0 + 1 evaluates to 1.\n",
    "# 1 - 1 evaluates to 0.\n",
    "# So, the final result of the expression (1+1)*2/1%1+1-1 is 0."
   ]
  },
  {
   "cell_type": "markdown",
   "id": "6398b2b0",
   "metadata": {},
   "source": [
    "---"
   ]
  },
  {
   "cell_type": "markdown",
   "id": "65362930",
   "metadata": {},
   "source": [
    "# Data Types in Python\n",
    "\n",
    "Data types are the classification or categorization of data items. They represent the kind of value that tells what operations can be performed on a particular data. In Python programming, since everything is an object, data types are actually classes, and variables are instances (objects) of these classes.\n",
    "\n",
    "The following are the standard or built-in data types in Python:\n",
    "\n",
    "## 1. Numeric Types\n",
    "\n",
    "Numeric types represent numerical values and are divided into three subtypes:\n",
    "\n",
    "- **int**: Integer values, e.g., 42, -10, 0. (Immutable, Ordered)\n",
    "- **float**: Floating-point or decimal values, e.g., 3.14, -0.001, 1.0. (Immutable, Ordered)\n",
    "- **complex**: Complex numbers, represented as `a + bj`, where `a` and `b` are floats and `j` is the imaginary unit. (Immutable, Not Ordered)\n",
    "\n",
    "## 2. Sequence Types\n",
    "\n",
    "Sequence types represent ordered sets of objects.\n",
    "\n",
    "- **list**: A collection of items which can be of different data types, enclosed in square brackets, e.g., `[1, 2, 'hello']`. (Mutable, Ordered)\n",
    "- **tuple**: An immutable collection of items, enclosed in parentheses, e.g., `(1, 2, 'hello')`. (Immutable, Ordered)\n",
    "- **str**: A string, a collection of characters, enclosed in either single or double quotes, e.g., `'hello'` or `\"world\"`. (Immutable, Ordered)\n",
    "\n",
    "## 3. Boolean Type\n",
    "\n",
    "Boolean type represents truth values, and it has two constant objects: `True` and `False`. (Immutable, Not Ordered)\n",
    "\n",
    "## 4. Set Type\n",
    "\n",
    "A set is an unordered collection of unique elements, represented by curly braces `{}`, e.g., `{1, 2, 3}`. (Mutable, Not Ordered)\n",
    "\n",
    "## 5. Dictionary Type\n",
    "\n",
    "A dictionary is an unordered collection of key-value pairs, represented by curly braces `{}`, e.g., `{'name': 'Alice', 'age': 30}`. (Mutable, Not Ordered)\n",
    "\n",
    "## 6. Binary Types\n",
    "\n",
    "These types are used to store binary data.\n",
    "\n",
    "- **memoryview**: A view object that exposes an array's buffer interface. (Mutable, Not Ordered)\n",
    "- **bytearray**: A mutable sequence of bytes. (Mutable, Ordered)\n",
    "- **bytes**: An immutable sequence of bytes. (Immutable, Ordered)\n",
    "\n",
    "These data types are fundamental in Python and are used to handle different kinds of data efficiently.\n"
   ]
  },
  {
   "cell_type": "markdown",
   "id": "65b8b5a5",
   "metadata": {},
   "source": [
    "### Numeric Data Type in Python"
   ]
  },
  {
   "cell_type": "markdown",
   "id": "19677907",
   "metadata": {},
   "source": [
    "- Integers – This value is represented by int class. It contains positive or negative whole numbers (without fractions(/) or decimals(...)). In Python, there is no limit to how long an integer value.\n",
    "- Float – It is specified by a decimal point. .\n",
    "- Complex Numbers – Complex number is represented by a complex class. It is specified as (real part) + (imaginary part)j. For example – 2+3j"
   ]
  },
  {
   "cell_type": "code",
   "execution_count": 14,
   "id": "99799669",
   "metadata": {},
   "outputs": [
    {
     "name": "stdout",
     "output_type": "stream",
     "text": [
      "Type of a:  <class 'int'>\n",
      "\n",
      "Type of b:  <class 'float'>\n",
      "\n",
      "Type of c:  <class 'complex'>\n"
     ]
    }
   ],
   "source": [
    "a = 5\n",
    "print(\"Type of a: \", type(a)) # by using type function we can see the type of data \n",
    "\n",
    "b = 5.0\n",
    "print(\"\\nType of b: \", type(b))\n",
    "\n",
    "c = 2 + 4j\n",
    "print(\"\\nType of c: \", type(c))\n"
   ]
  },
  {
   "cell_type": "code",
   "execution_count": 5,
   "id": "05780c70",
   "metadata": {},
   "outputs": [],
   "source": [
    "String = 'I am good'"
   ]
  },
  {
   "cell_type": "code",
   "execution_count": 6,
   "id": "11d4912c",
   "metadata": {},
   "outputs": [],
   "source": [
    "String_two_qts = \"I am good\""
   ]
  },
  {
   "cell_type": "code",
   "execution_count": 7,
   "id": "d65051d6",
   "metadata": {},
   "outputs": [],
   "source": [
    "String_with_tripple = '''I am good. But this is painful'''"
   ]
  },
  {
   "cell_type": "code",
   "execution_count": 8,
   "id": "d442a604",
   "metadata": {},
   "outputs": [
    {
     "data": {
      "text/plain": [
       "'I am good'"
      ]
     },
     "execution_count": 8,
     "metadata": {},
     "output_type": "execute_result"
    }
   ],
   "source": [
    "String[:]"
   ]
  },
  {
   "cell_type": "code",
   "execution_count": 9,
   "id": "e8275d94",
   "metadata": {},
   "outputs": [
    {
     "ename": "SyntaxError",
     "evalue": "invalid syntax (1415455330.py, line 2)",
     "output_type": "error",
     "traceback": [
      "\u001b[1;36m  Cell \u001b[1;32mIn[9], line 2\u001b[1;36m\u001b[0m\n\u001b[1;33m    \"This is a string with \"single quotes\" inside.\" # you should start and ends with either single('') or (\"\")\u001b[0m\n\u001b[1;37m                            ^\u001b[0m\n\u001b[1;31mSyntaxError\u001b[0m\u001b[1;31m:\u001b[0m invalid syntax\n"
     ]
    }
   ],
   "source": [
    "'This is a string with \"double quotes\" inside.'\n",
    "\"This is a string with \"single quotes\" inside.\" # you should start and ends with either single('') or (\"\")"
   ]
  },
  {
   "cell_type": "code",
   "execution_count": 10,
   "id": "5a5c30a3",
   "metadata": {},
   "outputs": [
    {
     "data": {
      "text/plain": [
       "'jggh\\nmhg\\nkghk gvu\\nkhg'"
      ]
     },
     "execution_count": 10,
     "metadata": {},
     "output_type": "execute_result"
    }
   ],
   "source": [
    "\"\"\"jggh\n",
    "mhg\n",
    "kghk gvu\n",
    "khg\"\"\""
   ]
  },
  {
   "cell_type": "code",
   "execution_count": 11,
   "id": "eadea1a0",
   "metadata": {},
   "outputs": [
    {
     "name": "stdout",
     "output_type": "stream",
     "text": [
      "speaking walking on road\n"
     ]
    }
   ],
   "source": [
    "print(\"speaking\",\n",
    "      \"walking on road\")"
   ]
  },
  {
   "cell_type": "code",
   "execution_count": 18,
   "id": "36d47d63",
   "metadata": {},
   "outputs": [
    {
     "data": {
      "text/plain": [
       "'This is a \"quoted\" string.'"
      ]
     },
     "execution_count": 18,
     "metadata": {},
     "output_type": "execute_result"
    }
   ],
   "source": [
    "\"This is a \\\"quoted\\\" string.\"\n"
   ]
  }
 ],
 "metadata": {
  "kernelspec": {
   "display_name": "Python 3 (ipykernel)",
   "language": "python",
   "name": "python3"
  },
  "language_info": {
   "codemirror_mode": {
    "name": "ipython",
    "version": 3
   },
   "file_extension": ".py",
   "mimetype": "text/x-python",
   "name": "python",
   "nbconvert_exporter": "python",
   "pygments_lexer": "ipython3",
   "version": "3.10.9"
  }
 },
 "nbformat": 4,
 "nbformat_minor": 5
}
