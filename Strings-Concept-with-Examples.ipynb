{
 "cells": [
  {
   "cell_type": "markdown",
   "id": "8ac0e58e",
   "metadata": {},
   "source": [
    "---"
   ]
  },
  {
   "cell_type": "markdown",
   "id": "65362930",
   "metadata": {},
   "source": [
    "# Data Types in Python\n",
    "\n",
    "Data types are the classification or categorization of data items. They represent the kind of value that tells what operations can be performed on a particular data. In Python programming, since everything is an object, data types are actually classes, and variables are instances (objects) of these classes.\n",
    "\n",
    "The following are the standard or built-in data types in Python:\n",
    "\n",
    "## 1. Numeric Types\n",
    "\n",
    "Numeric types represent numerical values and are divided into three subtypes:\n",
    "\n",
    "- **int**: Integer values, e.g., 42, -10, 0. (Immutable, Ordered)\n",
    "- **float**: Floating-point or decimal values, e.g., 3.14, -0.001, 1.0. (Immutable, Ordered)\n",
    "- **complex**: Complex numbers, represented as `a + bj`, where `a` and `b` are floats and `j` is the imaginary unit. (Immutable, Not Ordered)\n",
    "\n",
    "## 2. Sequence Types\n",
    "\n",
    "Sequence types represent ordered sets of objects.\n",
    "\n",
    "- **list**: A collection of items which can be of different data types, enclosed in square brackets, e.g., `[1, 2, 'hello']`. (Mutable, Ordered)\n",
    "- **tuple**: An immutable collection of items, enclosed in parentheses, e.g., `(1, 2, 'hello')`. (Immutable, Ordered)\n",
    "- **str**: A string, a collection of characters, enclosed in either single or double quotes, e.g., `'hello'` or `\"world\"`. (Immutable, Ordered)\n",
    "\n",
    "## 3. Boolean Type\n",
    "\n",
    "Boolean type represents truth values, and it has two constant objects: `True` and `False`. (Immutable, Not Ordered)\n",
    "\n",
    "## 4. Set Type\n",
    "\n",
    "A set is an unordered collection of unique elements, represented by curly braces `{}`, e.g., `{1, 2, 3}`. (Mutable, Not Ordered)\n",
    "\n",
    "## 5. Dictionary Type\n",
    "\n",
    "A dictionary is an unordered collection of key-value pairs, represented by curly braces `{}`, e.g., `{'name': 'Alice', 'age': 30}`. (Mutable, Not Ordered)\n",
    "\n",
    "## 6. Binary Types\n",
    "\n",
    "These types are used to store binary data.\n",
    "\n",
    "- **memoryview**: A view object that exposes an array's buffer interface. (Mutable, Not Ordered)\n",
    "- **bytearray**: A mutable sequence of bytes. (Mutable, Ordered)\n",
    "- **bytes**: An immutable sequence of bytes. (Immutable, Ordered)\n",
    "\n",
    "These data types are fundamental in Python and are used to handle different kinds of data efficiently.\n"
   ]
  },
  {
   "cell_type": "markdown",
   "id": "65b8b5a5",
   "metadata": {},
   "source": [
    "### Numeric Data Type in Python"
   ]
  },
  {
   "cell_type": "markdown",
   "id": "19677907",
   "metadata": {},
   "source": [
    "- Integers – This value is represented by int class. It contains positive or negative whole numbers (without fractions(/) or decimals(...)). In Python, there is no limit to how long an integer value.\n",
    "- Float – It is specified by a decimal point. .\n",
    "- Complex Numbers – Complex number is represented by a complex class. It is specified as (real part) + (imaginary part)j. For example – 2+3j"
   ]
  },
  {
   "cell_type": "code",
   "execution_count": 14,
   "id": "99799669",
   "metadata": {},
   "outputs": [
    {
     "name": "stdout",
     "output_type": "stream",
     "text": [
      "Type of a:  <class 'int'>\n",
      "\n",
      "Type of b:  <class 'float'>\n",
      "\n",
      "Type of c:  <class 'complex'>\n"
     ]
    }
   ],
   "source": [
    "a = 5\n",
    "print(\"Type of a: \", type(a)) # by using type function we can see the type of data \n",
    "\n",
    "b = 5.0\n",
    "print(\"\\nType of b: \", type(b))\n",
    "\n",
    "c = 2 + 4j\n",
    "print(\"\\nType of c: \", type(c))\n"
   ]
  },
  {
   "cell_type": "code",
   "execution_count": 5,
   "id": "05780c70",
   "metadata": {},
   "outputs": [],
   "source": [
    "String = 'I am good'"
   ]
  },
  {
   "cell_type": "code",
   "execution_count": 6,
   "id": "11d4912c",
   "metadata": {},
   "outputs": [],
   "source": [
    "String_two_qts = \"I am good\""
   ]
  },
  {
   "cell_type": "code",
   "execution_count": 7,
   "id": "d65051d6",
   "metadata": {},
   "outputs": [],
   "source": [
    "String_with_tripple = '''I am good. But this is painful'''"
   ]
  },
  {
   "cell_type": "code",
   "execution_count": 8,
   "id": "d442a604",
   "metadata": {},
   "outputs": [
    {
     "data": {
      "text/plain": [
       "'I am good'"
      ]
     },
     "execution_count": 8,
     "metadata": {},
     "output_type": "execute_result"
    }
   ],
   "source": [
    "String[:]"
   ]
  },
  {
   "cell_type": "code",
   "execution_count": 9,
   "id": "e8275d94",
   "metadata": {},
   "outputs": [
    {
     "ename": "SyntaxError",
     "evalue": "invalid syntax (1415455330.py, line 2)",
     "output_type": "error",
     "traceback": [
      "\u001b[1;36m  Cell \u001b[1;32mIn[9], line 2\u001b[1;36m\u001b[0m\n\u001b[1;33m    \"This is a string with \"single quotes\" inside.\" # you should start and ends with either single('') or (\"\")\u001b[0m\n\u001b[1;37m                            ^\u001b[0m\n\u001b[1;31mSyntaxError\u001b[0m\u001b[1;31m:\u001b[0m invalid syntax\n"
     ]
    }
   ],
   "source": [
    "'This is a string with \"double quotes\" inside.'\n",
    "\"This is a string with \"single quotes\" inside.\" # you should start and ends with either single('') or (\"\")"
   ]
  },
  {
   "cell_type": "code",
   "execution_count": 10,
   "id": "5a5c30a3",
   "metadata": {},
   "outputs": [
    {
     "data": {
      "text/plain": [
       "'jggh\\nmhg\\nkghk gvu\\nkhg'"
      ]
     },
     "execution_count": 10,
     "metadata": {},
     "output_type": "execute_result"
    }
   ],
   "source": [
    "\"\"\"jggh\n",
    "mhg\n",
    "kghk gvu\n",
    "khg\"\"\""
   ]
  },
  {
   "cell_type": "code",
   "execution_count": 11,
   "id": "eadea1a0",
   "metadata": {},
   "outputs": [
    {
     "name": "stdout",
     "output_type": "stream",
     "text": [
      "speaking walking on road\n"
     ]
    }
   ],
   "source": [
    "print(\"speaking\",\n",
    "      \"walking on road\")"
   ]
  },
  {
   "cell_type": "markdown",
   "id": "4581300c",
   "metadata": {},
   "source": [
    "# Strings"
   ]
  },
  {
   "cell_type": "markdown",
   "id": "e5dd9bcf",
   "metadata": {},
   "source": [
    "- A String is a data structure in Python that represents a sequence of characters.\n",
    "- It is an immutable data type, meaning that once you have created a string, you cannot change it.\n",
    "- Strings are used widely in many different applications, such as storing and manipulating text data, representing names, - -addresses, and other types of data that can be represented as text."
   ]
  },
  {
   "cell_type": "markdown",
   "id": "6afe900e",
   "metadata": {},
   "source": [
    "## CURD(Create,Update,Retrive,Delet)"
   ]
  },
  {
   "cell_type": "markdown",
   "id": "d1d14f29",
   "metadata": {},
   "source": [
    "### Creation"
   ]
  },
  {
   "cell_type": "code",
   "execution_count": 13,
   "id": "1c0f863c",
   "metadata": {},
   "outputs": [
    {
     "name": "stdout",
     "output_type": "stream",
     "text": [
      "Python is widley used programming language\n"
     ]
    }
   ],
   "source": [
    "# Creating String \n",
    "String = 'Python is widley used programming language' # its nothing but mixed substrings\n",
    "print(String)"
   ]
  },
  {
   "cell_type": "code",
   "execution_count": 17,
   "id": "d45fc68b",
   "metadata": {},
   "outputs": [
    {
     "ename": "TypeError",
     "evalue": "unsupported operand type(s) for -: 'str' and 'str'",
     "output_type": "error",
     "traceback": [
      "\u001b[1;31m---------------------------------------------------------------------------\u001b[0m",
      "\u001b[1;31mTypeError\u001b[0m                                 Traceback (most recent call last)",
      "Cell \u001b[1;32mIn[17], line 1\u001b[0m\n\u001b[1;32m----> 1\u001b[0m \u001b[38;5;124;43m'\u001b[39;49m\u001b[38;5;124;43mString\u001b[39;49m\u001b[38;5;124;43m'\u001b[39;49m\u001b[43m \u001b[49m\u001b[38;5;241;43m-\u001b[39;49m\u001b[43m \u001b[49m\u001b[38;5;124;43m'\u001b[39;49m\u001b[38;5;124;43mStr\u001b[39;49m\u001b[38;5;124;43m'\u001b[39;49m\n",
      "\u001b[1;31mTypeError\u001b[0m: unsupported operand type(s) for -: 'str' and 'str'"
     ]
    }
   ],
   "source": [
    "'String' - 'Str' # we cant subtract from string to string, data type of oprand not allowed to do operation with '-'"
   ]
  },
  {
   "cell_type": "markdown",
   "id": "640d85fc",
   "metadata": {},
   "source": [
    "#### Accesing"
   ]
  },
  {
   "cell_type": "code",
   "execution_count": 22,
   "id": "e83dd7f2",
   "metadata": {},
   "outputs": [],
   "source": [
    "from IPython.display import Image"
   ]
  },
  {
   "cell_type": "code",
   "execution_count": 24,
   "id": "9793c7ea",
   "metadata": {},
   "outputs": [
    {
     "data": {
      "text/html": [
       "<img src=\"https://codesolid.com/wp-content/uploads/2022/08/image-34.png?ezimgfmt=ng%3Awebp%2Fngcb1%2Frs%3Adevice%2Frscb1-1\"/>"
      ],
      "text/plain": [
       "<IPython.core.display.Image object>"
      ]
     },
     "execution_count": 24,
     "metadata": {},
     "output_type": "execute_result"
    }
   ],
   "source": [
    "Image(url='https://codesolid.com/wp-content/uploads/2022/08/image-34.png?ezimgfmt=ng%3Awebp%2Fngcb1%2Frs%3Adevice%2Frscb1-1') # Accessing characters in Python String"
   ]
  },
  {
   "cell_type": "code",
   "execution_count": 25,
   "id": "338b2e7d",
   "metadata": {
    "scrolled": true
   },
   "outputs": [
    {
     "data": {
      "text/html": [
       "<img src=\"https://iq.opengenus.org/content/images/2020/10/Index.png\"/>"
      ],
      "text/plain": [
       "<IPython.core.display.Image object>"
      ]
     },
     "execution_count": 25,
     "metadata": {},
     "output_type": "execute_result"
    }
   ],
   "source": [
    "Image(url = 'https://iq.opengenus.org/content/images/2020/10/Index.png')"
   ]
  },
  {
   "cell_type": "code",
   "execution_count": 16,
   "id": "06104d50",
   "metadata": {},
   "outputs": [
    {
     "name": "stdout",
     "output_type": "stream",
     "text": [
      "Sravan KumarBonthada\n",
      "Sravan Kumar Bonthada\n"
     ]
    }
   ],
   "source": [
    "# Updating String\n",
    "Stg1 = 'Sravan Kumar'\n",
    "Stg2 = 'Bonthada'\n",
    "print(Stg1 + Stg2)\n",
    "Stg1 = 'Sravan Kumar ' # Space also taken like single character\n",
    "Stg2 = 'Bonthada'\n",
    "print(Stg1 + Stg2) # adding(concatenating) String with help of '+' operator"
   ]
  },
  {
   "cell_type": "code",
   "execution_count": 28,
   "id": "018d977d",
   "metadata": {},
   "outputs": [
    {
     "ename": "IndexError",
     "evalue": "string index out of range",
     "output_type": "error",
     "traceback": [
      "\u001b[1;31m---------------------------------------------------------------------------\u001b[0m",
      "\u001b[1;31mIndexError\u001b[0m                                Traceback (most recent call last)",
      "Cell \u001b[1;32mIn[28], line 1\u001b[0m\n\u001b[1;32m----> 1\u001b[0m \u001b[43mmy_string\u001b[49m\u001b[43m[\u001b[49m\u001b[38;5;241;43m30\u001b[39;49m\u001b[43m]\u001b[49m\n",
      "\u001b[1;31mIndexError\u001b[0m: string index out of range"
     ]
    }
   ],
   "source": [
    "my_string[30] # While accessing an index out of the range will cause an IndexError"
   ]
  },
  {
   "cell_type": "code",
   "execution_count": 29,
   "id": "41958a7c",
   "metadata": {},
   "outputs": [
    {
     "ename": "TypeError",
     "evalue": "string indices must be integers",
     "output_type": "error",
     "traceback": [
      "\u001b[1;31m---------------------------------------------------------------------------\u001b[0m",
      "\u001b[1;31mTypeError\u001b[0m                                 Traceback (most recent call last)",
      "Cell \u001b[1;32mIn[29], line 1\u001b[0m\n\u001b[1;32m----> 1\u001b[0m \u001b[43mmy_string\u001b[49m\u001b[43m[\u001b[49m\u001b[38;5;124;43m'\u001b[39;49m\u001b[38;5;124;43mH\u001b[39;49m\u001b[38;5;124;43m'\u001b[39;49m\u001b[43m]\u001b[49m\n",
      "\u001b[1;31mTypeError\u001b[0m: string indices must be integers"
     ]
    }
   ],
   "source": [
    "my_string['H'] # Only Integers are allowed to be passed as an index, float or other types that will cause a TypeError.\n"
   ]
  },
  {
   "cell_type": "code",
   "execution_count": 20,
   "id": "1287eb87",
   "metadata": {},
   "outputs": [
    {
     "name": "stdout",
     "output_type": "stream",
     "text": [
      "H\n",
      "p\n"
     ]
    }
   ],
   "source": [
    "my_string = \"Hello, python World!\" # Accesing String and calling characters in string\n",
    "print(my_string[0])  # Output: H\n",
    "print(my_string[7])  # Output: W\n"
   ]
  },
  {
   "cell_type": "markdown",
   "id": "f074a1ca",
   "metadata": {},
   "source": [
    "#### Slicing"
   ]
  },
  {
   "cell_type": "markdown",
   "id": "ddc8cec3",
   "metadata": {},
   "source": [
    "- To access a range of characters in a string, you need to slice a string. One way to do this is to use the simple slicing operator :\n",
    "\n",
    "- With this operator you can specify where to start the slicing, where to end and specify the step."
   ]
  },
  {
   "cell_type": "code",
   "execution_count": 21,
   "id": "b751a9ac",
   "metadata": {},
   "outputs": [
    {
     "data": {
      "text/plain": [
       "'Hel'"
      ]
     },
     "execution_count": 21,
     "metadata": {},
     "output_type": "execute_result"
    }
   ],
   "source": [
    "my_string[0:3] # String slicing ; it will start at 0 position "
   ]
  },
  {
   "cell_type": "code",
   "execution_count": 30,
   "id": "633dad22",
   "metadata": {},
   "outputs": [
    {
     "data": {
      "text/plain": [
       "'Hello'"
      ]
     },
     "execution_count": 30,
     "metadata": {},
     "output_type": "execute_result"
    }
   ],
   "source": [
    "my_string[0:5]"
   ]
  },
  {
   "cell_type": "markdown",
   "id": "f87b00f9",
   "metadata": {},
   "source": [
    "- the expression S [ start : stop : step ] returns the portion of the string from index start to index stop, at a step size step."
   ]
  },
  {
   "cell_type": "code",
   "execution_count": 31,
   "id": "8e18015b",
   "metadata": {},
   "outputs": [
    {
     "data": {
      "text/html": [
       "<img src=\"https://www.learnbyexample.org/wp-content/uploads/python/Python-String-Slicing-Syntax.png\"/>"
      ],
      "text/plain": [
       "<IPython.core.display.Image object>"
      ]
     },
     "execution_count": 31,
     "metadata": {},
     "output_type": "execute_result"
    }
   ],
   "source": [
    "Image(url = 'https://www.learnbyexample.org/wp-content/uploads/python/Python-String-Slicing-Syntax.png')"
   ]
  },
  {
   "cell_type": "code",
   "execution_count": 33,
   "id": "9f8e0d85",
   "metadata": {},
   "outputs": [
    {
     "data": {
      "text/html": [
       "<img src=\"https://www.learnbyexample.org/wp-content/uploads/python/Python-String-Slicing-Illustration.png\"/>"
      ],
      "text/plain": [
       "<IPython.core.display.Image object>"
      ]
     },
     "execution_count": 33,
     "metadata": {},
     "output_type": "execute_result"
    }
   ],
   "source": [
    "Image(url = 'https://www.learnbyexample.org/wp-content/uploads/python/Python-String-Slicing-Illustration.png')"
   ]
  },
  {
   "cell_type": "code",
   "execution_count": 48,
   "id": "6d0c81f1",
   "metadata": {},
   "outputs": [
    {
     "data": {
      "text/plain": [
       "'CDEFG'"
      ]
     },
     "execution_count": 48,
     "metadata": {},
     "output_type": "execute_result"
    }
   ],
   "source": [
    "S = 'ABCDEFGHI'\n",
    "S[2:7:]"
   ]
  },
  {
   "cell_type": "code",
   "execution_count": 83,
   "id": "9cad744f",
   "metadata": {},
   "outputs": [
    {
     "data": {
      "text/html": [
       "<img src=\"https://www.learnbyexample.org/wp-content/uploads/python/Python-String-Slicing-Negative-Indices.png\"/>"
      ],
      "text/plain": [
       "<IPython.core.display.Image object>"
      ]
     },
     "execution_count": 83,
     "metadata": {},
     "output_type": "execute_result"
    }
   ],
   "source": [
    "Image(url = 'https://www.learnbyexample.org/wp-content/uploads/python/Python-String-Slicing-Negative-Indices.png')"
   ]
  },
  {
   "cell_type": "code",
   "execution_count": 84,
   "id": "e1bfd43d",
   "metadata": {},
   "outputs": [
    {
     "name": "stdout",
     "output_type": "stream",
     "text": [
      "CDEFG\n"
     ]
    }
   ],
   "source": [
    "S = 'ABCDEFGHI'\n",
    "print(S[-7:-2])\t# CDEFG"
   ]
  },
  {
   "cell_type": "code",
   "execution_count": 88,
   "id": "b83f2c9a",
   "metadata": {},
   "outputs": [
    {
     "data": {
      "text/html": [
       "<img src=\"https://qph.cf2.quoracdn.net/main-qimg-a380b1bc159589df5e0b9842e5b56b6d-lq\"/>"
      ],
      "text/plain": [
       "<IPython.core.display.Image object>"
      ]
     },
     "execution_count": 88,
     "metadata": {},
     "output_type": "execute_result"
    }
   ],
   "source": [
    "Image(url ='https://qph.cf2.quoracdn.net/main-qimg-a380b1bc159589df5e0b9842e5b56b6d-lq')"
   ]
  },
  {
   "cell_type": "code",
   "execution_count": null,
   "id": "506fa62f",
   "metadata": {},
   "outputs": [],
   "source": [
    "S = 'ABCDEFGHI'\n",
    "print(S[2:-5])\t# CD"
   ]
  },
  {
   "cell_type": "code",
   "execution_count": 85,
   "id": "ea6136b9",
   "metadata": {},
   "outputs": [
    {
     "data": {
      "text/html": [
       "<img src=\"https://www.learnbyexample.org/wp-content/uploads/python/Python-String-Slicing-Specifying-Step-Size.png\"/>"
      ],
      "text/plain": [
       "<IPython.core.display.Image object>"
      ]
     },
     "execution_count": 85,
     "metadata": {},
     "output_type": "execute_result"
    }
   ],
   "source": [
    "Image(url = 'https://www.learnbyexample.org/wp-content/uploads/python/Python-String-Slicing-Specifying-Step-Size.png')"
   ]
  },
  {
   "cell_type": "code",
   "execution_count": null,
   "id": "9bcb595a",
   "metadata": {},
   "outputs": [],
   "source": [
    "# Return every 2nd item between position 2 to 7\n",
    "S = 'ABCDEFGHI'\n",
    "print(S[2:7:2])\t# CEG"
   ]
  },
  {
   "cell_type": "code",
   "execution_count": 86,
   "id": "00523608",
   "metadata": {
    "scrolled": false
   },
   "outputs": [
    {
     "data": {
      "text/html": [
       "<img src=\"https://prepinsta.com/wp-content/uploads/2020/08/Slicing-with-Negative-Numbers-in-Python.webp\"/>"
      ],
      "text/plain": [
       "<IPython.core.display.Image object>"
      ]
     },
     "execution_count": 86,
     "metadata": {},
     "output_type": "execute_result"
    }
   ],
   "source": [
    "Image(url = 'https://prepinsta.com/wp-content/uploads/2020/08/Slicing-with-Negative-Numbers-in-Python.webp')"
   ]
  },
  {
   "cell_type": "code",
   "execution_count": 87,
   "id": "33ab402d",
   "metadata": {},
   "outputs": [
    {
     "name": "stdout",
     "output_type": "stream",
     "text": [
      "ta\n",
      "PrepIn\n",
      "atsnIperP\n",
      "Prep\n"
     ]
    }
   ],
   "source": [
    "prepinsta  = 'PrepInsta'\n",
    "print(prepinsta[-2:])\n",
    "print(prepinsta[:-3])\n",
    "print(prepinsta[::-1])\n",
    "print(prepinsta[-9:4])"
   ]
  },
  {
   "cell_type": "code",
   "execution_count": 45,
   "id": "0d5854f3",
   "metadata": {},
   "outputs": [
    {
     "name": "stdout",
     "output_type": "stream",
     "text": [
      "NAVARS\n"
     ]
    }
   ],
   "source": [
    "#Program to reverse a string\n",
    "name = \"SRAVAN\"\n",
    "print(name[::-1])"
   ]
  },
  {
   "cell_type": "code",
   "execution_count": 46,
   "id": "1d7e6037",
   "metadata": {},
   "outputs": [
    {
     "data": {
      "text/plain": [
       "'NVR'"
      ]
     },
     "execution_count": 46,
     "metadata": {},
     "output_type": "execute_result"
    }
   ],
   "source": [
    "name[::-2]"
   ]
  },
  {
   "cell_type": "code",
   "execution_count": 51,
   "id": "b0a70525",
   "metadata": {},
   "outputs": [
    {
     "data": {
      "text/plain": [
       "'mvei  ah'"
      ]
     },
     "execution_count": 51,
     "metadata": {},
     "output_type": "execute_result"
    }
   ],
   "source": [
    "Fashion = 'eating gums in a rajinikanth movie is a Fashion'\n",
    "Fashion[-18:-2:2] # accesing left to right"
   ]
  },
  {
   "cell_type": "code",
   "execution_count": 53,
   "id": "d5521736",
   "metadata": {},
   "outputs": [
    {
     "data": {
      "text/plain": [
       "''"
      ]
     },
     "execution_count": 53,
     "metadata": {},
     "output_type": "execute_result"
    }
   ],
   "source": [
    "Fashion[-1:-18:2] # accesing right to left will not give anything"
   ]
  },
  {
   "cell_type": "code",
   "execution_count": 54,
   "id": "5e98c238",
   "metadata": {},
   "outputs": [
    {
     "data": {
      "text/plain": [
       "''"
      ]
     },
     "execution_count": 54,
     "metadata": {},
     "output_type": "execute_result"
    }
   ],
   "source": [
    "Fashion[-18:-2:-2] # accesing left to right is correct, but step size should be positive number when staring from big negative number"
   ]
  },
  {
   "cell_type": "code",
   "execution_count": 61,
   "id": "66721575",
   "metadata": {},
   "outputs": [
    {
     "data": {
      "text/plain": [
       "'ting gums in a rajinikanth movie is a Fas'"
      ]
     },
     "execution_count": 61,
     "metadata": {},
     "output_type": "execute_result"
    }
   ],
   "source": [
    "Fashion[2:-4] #  you can start at positive and ends with negative "
   ]
  },
  {
   "cell_type": "code",
   "execution_count": 71,
   "id": "a9c6410d",
   "metadata": {},
   "outputs": [
    {
     "data": {
      "text/plain": [
       "'movie i'"
      ]
     },
     "execution_count": 71,
     "metadata": {},
     "output_type": "execute_result"
    }
   ],
   "source": [
    "Fashion[-18:36] "
   ]
  },
  {
   "cell_type": "code",
   "execution_count": 81,
   "id": "247a8763",
   "metadata": {},
   "outputs": [
    {
     "data": {
      "text/plain": [
       "'su n'"
      ]
     },
     "execution_count": 81,
     "metadata": {},
     "output_type": "execute_result"
    }
   ],
   "source": [
    "Fashion[10:2:-2] "
   ]
  },
  {
   "cell_type": "code",
   "execution_count": 79,
   "id": "e8d553e0",
   "metadata": {},
   "outputs": [
    {
     "data": {
      "text/plain": [
       "''"
      ]
     },
     "execution_count": 79,
     "metadata": {},
     "output_type": "execute_result"
    }
   ],
   "source": [
    "Fashion[20:2] # you cant slice from high to low"
   ]
  },
  {
   "cell_type": "code",
   "execution_count": 80,
   "id": "d3ce51f7",
   "metadata": {},
   "outputs": [
    {
     "data": {
      "text/plain": [
       "'su n'"
      ]
     },
     "execution_count": 80,
     "metadata": {},
     "output_type": "execute_result"
    }
   ],
   "source": [
    "Fashion[10:2:-2] # if slice frol high to low ,you should set step size as negative number"
   ]
  },
  {
   "cell_type": "code",
   "execution_count": 95,
   "id": "8cdebb8c",
   "metadata": {},
   "outputs": [
    {
     "data": {
      "text/plain": [
       "''"
      ]
     },
     "execution_count": 95,
     "metadata": {},
     "output_type": "execute_result"
    }
   ],
   "source": [
    "Fashion[-1:-10:1] # will not give any output because (-1 + 1 = 0 index)"
   ]
  },
  {
   "cell_type": "code",
   "execution_count": 96,
   "id": "216444a1",
   "metadata": {},
   "outputs": [
    {
     "data": {
      "text/plain": [
       "'noihsaF a'"
      ]
     },
     "execution_count": 96,
     "metadata": {},
     "output_type": "execute_result"
    }
   ],
   "source": [
    "Fashion[-1:-10:-1] # -1 + -1 = -2 ,,-2 + -1 = -3,-4,-5,-6 "
   ]
  },
  {
   "cell_type": "code",
   "execution_count": 169,
   "id": "120123e8",
   "metadata": {},
   "outputs": [],
   "source": [
    "# j = -len(Fashion)\n",
    "# for i in enumerate(Fashion):\n",
    "#     print(j,i)\n",
    "#     j -=-1"
   ]
  },
  {
   "cell_type": "markdown",
   "id": "6e684a1b",
   "metadata": {},
   "source": [
    "### Updating"
   ]
  },
  {
   "cell_type": "markdown",
   "id": "9d6a1cfc",
   "metadata": {},
   "source": [
    "###### Deleting/Updating from a String:\n",
    "- In Python, the Updation or deletion of characters from a String is not allowed.\n",
    "- This will cause an error because item assignment or item deletion from a String is not supported.\n",
    "- Although deletion of the entire String is possible with the use of a built-in del keyword. \n",
    "- This is because Strings are immutable, hence elements of a String cannot be changed once assigned.\n",
    "- Only new strings can be reassigned to the same name. "
   ]
  },
  {
   "cell_type": "markdown",
   "id": "2e10499f",
   "metadata": {},
   "source": [
    "###### Method1\n",
    "- A character of a string can be updated in Python by first converting the string into List.and then updating the element in the list. \n",
    "- As lists are mutable in nature, we can update the character and then convert the list back into the String."
   ]
  },
  {
   "cell_type": "code",
   "execution_count": 106,
   "id": "3d8cdb38",
   "metadata": {},
   "outputs": [
    {
     "name": "stdout",
     "output_type": "stream",
     "text": [
      "<class 'str'>\n"
     ]
    }
   ],
   "source": [
    "STring = 'I am bad'\n",
    "print(type(STring))"
   ]
  },
  {
   "cell_type": "code",
   "execution_count": 107,
   "id": "fbf83980",
   "metadata": {},
   "outputs": [
    {
     "name": "stdout",
     "output_type": "stream",
     "text": [
      "['I', ' ', 'a', 'm', ' ', 'b', 'a', 'd']\n"
     ]
    }
   ],
   "source": [
    "string_list = list(STring) # converting string to list \n",
    "print(string_list) # breaking individual characters and placed in list"
   ]
  },
  {
   "cell_type": "code",
   "execution_count": 108,
   "id": "eb52c0a9",
   "metadata": {},
   "outputs": [],
   "source": [
    "string_list.append(' if you mad')  # updated with 'if you mad' with help of append function"
   ]
  },
  {
   "cell_type": "code",
   "execution_count": 109,
   "id": "385c7b83",
   "metadata": {},
   "outputs": [
    {
     "name": "stdout",
     "output_type": "stream",
     "text": [
      "['I', ' ', 'a', 'm', ' ', 'b', 'a', 'd', ' if you mad']\n",
      "I am bad if you mad\n"
     ]
    }
   ],
   "source": [
    "print(string_list) # updated with 'if you mad'\n",
    "print(''.join(string_list)) # successfully updated string"
   ]
  },
  {
   "cell_type": "markdown",
   "id": "72876203",
   "metadata": {},
   "source": [
    "##### Method2\n",
    "- Another method is using the string slicing method. Slice the string before the character you want to update, then add the new character and finally add the other part of the string again by string slicing."
   ]
  },
  {
   "cell_type": "code",
   "execution_count": 117,
   "id": "a067add9",
   "metadata": {},
   "outputs": [],
   "source": [
    "quote1= 'If your bad'\n",
    "quote2 = 'I am your '"
   ]
  },
  {
   "cell_type": "code",
   "execution_count": 120,
   "id": "f40ff8ec",
   "metadata": {},
   "outputs": [
    {
     "data": {
      "text/plain": [
       "'If your bad I am your dad'"
      ]
     },
     "execution_count": 120,
     "metadata": {},
     "output_type": "execute_result"
    }
   ],
   "source": [
    "quote1[0:8] + 'bad' +' '+ quote2[:] + 'dad' # removed 'bad' from quote1 and separately added outside of string"
   ]
  },
  {
   "cell_type": "code",
   "execution_count": 122,
   "id": "83e63228",
   "metadata": {},
   "outputs": [
    {
     "data": {
      "text/plain": [
       "'If your bad I am your '"
      ]
     },
     "execution_count": 122,
     "metadata": {},
     "output_type": "execute_result"
    }
   ],
   "source": [
    "quote1 + \" \" + quote2"
   ]
  },
  {
   "cell_type": "markdown",
   "id": "7832a904",
   "metadata": {},
   "source": [
    "##### Deleting a character\n",
    "- Python strings are immutable, that means we cannot delete a character from it. \n",
    "- When we try to delete thecharacter using the del keyword, it will generate an error."
   ]
  },
  {
   "cell_type": "code",
   "execution_count": 124,
   "id": "78ab47f9",
   "metadata": {},
   "outputs": [
    {
     "ename": "TypeError",
     "evalue": "'str' object doesn't support item deletion",
     "output_type": "error",
     "traceback": [
      "\u001b[1;31m---------------------------------------------------------------------------\u001b[0m",
      "\u001b[1;31mTypeError\u001b[0m                                 Traceback (most recent call last)",
      "Cell \u001b[1;32mIn[124], line 1\u001b[0m\n\u001b[1;32m----> 1\u001b[0m \u001b[38;5;28;01mdel\u001b[39;00m quote1[\u001b[38;5;241m1\u001b[39m]\n",
      "\u001b[1;31mTypeError\u001b[0m: 'str' object doesn't support item deletion"
     ]
    }
   ],
   "source": [
    "del quote1[1] # TypeError: 'str' object doesn't support item deletion"
   ]
  },
  {
   "cell_type": "code",
   "execution_count": 125,
   "id": "72d3ccd0",
   "metadata": {},
   "outputs": [],
   "source": [
    "del quote1 # successfully deleted entire string"
   ]
  },
  {
   "cell_type": "code",
   "execution_count": 126,
   "id": "71cb9608",
   "metadata": {},
   "outputs": [
    {
     "ename": "NameError",
     "evalue": "name 'quote1' is not defined",
     "output_type": "error",
     "traceback": [
      "\u001b[1;31m---------------------------------------------------------------------------\u001b[0m",
      "\u001b[1;31mNameError\u001b[0m                                 Traceback (most recent call last)",
      "Cell \u001b[1;32mIn[126], line 1\u001b[0m\n\u001b[1;32m----> 1\u001b[0m \u001b[43mquote1\u001b[49m\n",
      "\u001b[1;31mNameError\u001b[0m: name 'quote1' is not defined"
     ]
    }
   ],
   "source": [
    "quote1"
   ]
  },
  {
   "cell_type": "markdown",
   "id": "73286ad1",
   "metadata": {},
   "source": [
    "##### Formating Strings"
   ]
  },
  {
   "cell_type": "code",
   "execution_count": 128,
   "id": "15b7d11b",
   "metadata": {},
   "outputs": [
    {
     "name": "stdout",
     "output_type": "stream",
     "text": [
      "Print String in default order: \n",
      "Sravan Sailu Sravani\n",
      "\n",
      "Print String in Positional order: \n",
      "Sailu Sravan Sravani\n",
      "\n",
      "Print String in order of Keywords: \n",
      "Sravani Sailu Sravan\n"
     ]
    }
   ],
   "source": [
    "# Python Program for\n",
    "# Formatting of Strings\n",
    "\n",
    "# Default order\n",
    "String1 = \"{} {} {}\".format('Sravan', 'Sailu', 'Sravani')\n",
    "print(\"Print String in default order: \")\n",
    "print(String1)\n",
    "\n",
    "# Positional Formatting\n",
    "String1 = \"{1} {0} {2}\".format('Sravan', 'Sailu', 'Sravani')\n",
    "print(\"\\nPrint String in Positional order: \")\n",
    "print(String1)\n",
    "\n",
    "# Keyword Formatting\n",
    "String1 = \"{l} {f} {g}\".format(g = 'Sravan', f = 'Sailu', l = 'Sravani')\n",
    "print(\"\\nPrint String in order of Keywords: \")\n",
    "print(String1)\n"
   ]
  },
  {
   "cell_type": "code",
   "execution_count": 129,
   "id": "35eff223",
   "metadata": {},
   "outputs": [
    {
     "name": "stdout",
     "output_type": "stream",
     "text": [
      "Formatting in 3.2f format: \n",
      "The value of Integer1 is 12.35\n",
      "\n",
      "Formatting in 3.4f format: \n",
      "The value of Integer1 is 12.3457\n"
     ]
    }
   ],
   "source": [
    "# Python Program for\n",
    "# Old Style Formatting\n",
    "# of Integers\n",
    "\n",
    "Integer1 = 12.3456789\n",
    "print(\"Formatting in 3.2f format: \")\n",
    "print('The value of Integer1 is %3.2f' % Integer1)\n",
    "print(\"\\nFormatting in 3.4f format: \")\n",
    "print('The value of Integer1 is %3.4f' % Integer1)"
   ]
  },
  {
   "cell_type": "code",
   "execution_count": 131,
   "id": "a0439116",
   "metadata": {},
   "outputs": [
    {
     "data": {
      "text/plain": [
       "10"
      ]
     },
     "execution_count": 131,
     "metadata": {},
     "output_type": "execute_result"
    }
   ],
   "source": [
    "len(quote2) # by using length fuction we can say how many characterstics in strings"
   ]
  },
  {
   "cell_type": "markdown",
   "id": "2ee6664e",
   "metadata": {},
   "source": [
    "##### String specified(String built-in-functions/pre-defind-functions)"
   ]
  },
  {
   "cell_type": "code",
   "execution_count": 141,
   "id": "9ec08db3",
   "metadata": {},
   "outputs": [
    {
     "name": "stdout",
     "output_type": "stream",
     "text": [
      "['Splitting', 'based', 'on', 'empty', 'spaces']\n"
     ]
    }
   ],
   "source": [
    "split = ' Splitting based on empty spaces'\n",
    "returning = split.split() # Splitting based on empty spaces\n",
    "print(returning) # it will return pieces of substrings and saved in list"
   ]
  },
  {
   "cell_type": "code",
   "execution_count": 142,
   "id": "0d98725e",
   "metadata": {},
   "outputs": [
    {
     "name": "stdout",
     "output_type": "stream",
     "text": [
      "[' Splitting', 'based', 'on', 'empty', 'spaces']\n"
     ]
    }
   ],
   "source": [
    "split = ' Splitting,based,on,empty,spaces'\n",
    "comma = split.split(',') # Splitting based on commas\n",
    "print(comma)"
   ]
  },
  {
   "cell_type": "code",
   "execution_count": 140,
   "id": "659da07a",
   "metadata": {},
   "outputs": [
    {
     "name": "stdout",
     "output_type": "stream",
     "text": [
      "I am doing good\n"
     ]
    }
   ],
   "source": [
    "replace = 'I am doing bad'\n",
    "replace = replace.replace('bad','good') # the left word 'bad' is the word to be replaced, \n",
    "# and the right side word 'good' is the word we are replacing it with.\n",
    "print(replace)"
   ]
  },
  {
   "cell_type": "code",
   "execution_count": 143,
   "id": "e389a199",
   "metadata": {},
   "outputs": [
    {
     "name": "stdout",
     "output_type": "stream",
     "text": [
      "42\n"
     ]
    }
   ],
   "source": [
    "num = 42\n",
    "str_num = str(num)\n",
    "print(str_num)  # Output: \"42\"\n"
   ]
  },
  {
   "cell_type": "code",
   "execution_count": 144,
   "id": "ac59a9c7",
   "metadata": {},
   "outputs": [
    {
     "name": "stdout",
     "output_type": "stream",
     "text": [
      "HELLO, WORLD!\n",
      "hello, world!\n"
     ]
    }
   ],
   "source": [
    "my_string = \"Hello, World!\"\n",
    "print(my_string.upper())  # Output: HELLO, WORLD!\n",
    "print(my_string.lower())  # Output: hello, world!\n"
   ]
  },
  {
   "cell_type": "code",
   "execution_count": 145,
   "id": "3011d91b",
   "metadata": {},
   "outputs": [
    {
     "name": "stdout",
     "output_type": "stream",
     "text": [
      "Hello, World!\n"
     ]
    }
   ],
   "source": [
    "my_string = \"   Hello, World!   \" # it will remove the empty space at start and end of the string\n",
    "print(my_string.strip())  # Output: \"Hello, World!\""
   ]
  },
  {
   "cell_type": "code",
   "execution_count": 146,
   "id": "b5c64140",
   "metadata": {},
   "outputs": [
    {
     "name": "stdout",
     "output_type": "stream",
     "text": [
      "7\n",
      "10\n"
     ]
    }
   ],
   "source": [
    "my_string = \"Hello, World!\"\n",
    "\n",
    "# Find the lowest index of the substring \"World\" within the string.\n",
    "# Print the index (position) where \"World\" starts in the string.\n",
    "print(my_string.find(\"W\"))  # Output: 7\n",
    "\n",
    "# Find the highest (last) index of the character \"l\" within the string.\n",
    "# The search starts from the right (end) of the string and goes towards the left.\n",
    "# Print the index (position) of the last occurrence of \"l\" in the string.\n",
    "print(my_string.rfind(\"l\"))     # Output: 9\n"
   ]
  },
  {
   "cell_type": "code",
   "execution_count": 149,
   "id": "22fc446c",
   "metadata": {},
   "outputs": [
    {
     "name": "stdout",
     "output_type": "stream",
     "text": [
      "True\n",
      "True\n"
     ]
    }
   ],
   "source": [
    "my_string = \"Hello, World!\"\n",
    "print(my_string.startswith(\"Hello\"))  # Output: True\n",
    "print(my_string.endswith(\"d!\"))    # Output: False"
   ]
  },
  {
   "cell_type": "code",
   "execution_count": 150,
   "id": "35542c3f",
   "metadata": {},
   "outputs": [
    {
     "name": "stdout",
     "output_type": "stream",
     "text": [
      "True\n",
      "False\n"
     ]
    }
   ],
   "source": [
    "my_string = \"Hello, World!\"\n",
    "print(my_string.startswith(\"Hello\"))  # Output: True\n",
    "print(my_string.endswith(\"World\"))    # Output: False"
   ]
  },
  {
   "cell_type": "code",
   "execution_count": 151,
   "id": "1227e184",
   "metadata": {},
   "outputs": [
    {
     "name": "stdout",
     "output_type": "stream",
     "text": [
      "Hello, World, Python\n"
     ]
    }
   ],
   "source": [
    "words = ['Hello', 'World', 'Python']\n",
    "separator = ', '\n",
    "result = separator.join(words)\n",
    "print(result)  # Output: \"Hello, World, Python\""
   ]
  },
  {
   "cell_type": "code",
   "execution_count": 152,
   "id": "275a477b",
   "metadata": {},
   "outputs": [
    {
     "name": "stdout",
     "output_type": "stream",
     "text": [
      "True\n",
      "True\n",
      "True\n"
     ]
    }
   ],
   "source": [
    "print(\"123\".isdigit())     # if it is number ,Output: True\n",
    "print(\"abc\".isalpha())     # if it is alphabits,Output: True\n",
    "print(\"abc123\".isalnum())  # if it is both num&alpha ,Output: True"
   ]
  },
  {
   "cell_type": "code",
   "execution_count": 154,
   "id": "f2c129fb",
   "metadata": {},
   "outputs": [
    {
     "name": "stdout",
     "output_type": "stream",
     "text": [
      "Hello World\n"
     ]
    }
   ],
   "source": [
    "my_string = \"hello world\" # The title() method capitalizes the first letter of each word in the string and makes the rest of the letters lowercase.\n",
    "print(my_string.title())  # Output: \"Hello World\""
   ]
  },
  {
   "cell_type": "code",
   "execution_count": 155,
   "id": "2f101980",
   "metadata": {},
   "outputs": [
    {
     "name": "stdout",
     "output_type": "stream",
     "text": [
      "Hello world\n"
     ]
    }
   ],
   "source": [
    "my_string = \"hello world\" # only first character will get capitalize rest of will be normal\n",
    "print(my_string.capitalize())  # Output: \"Hello world\""
   ]
  },
  {
   "cell_type": "code",
   "execution_count": 157,
   "id": "a15f5792",
   "metadata": {},
   "outputs": [
    {
     "name": "stdout",
     "output_type": "stream",
     "text": [
      "10\n"
     ]
    }
   ],
   "source": [
    "my_string = \"hello world\"\n",
    "print(my_string.index(\"d\")) # it will find index number of character in a string"
   ]
  },
  {
   "cell_type": "markdown",
   "id": "f801c432",
   "metadata": {},
   "source": [
    "- find() returns -1 if the substring is not found.\n",
    "- index() raises a ValueError if the substring is not found."
   ]
  },
  {
   "cell_type": "code",
   "execution_count": 158,
   "id": "68107ec0",
   "metadata": {},
   "outputs": [
    {
     "name": "stdout",
     "output_type": "stream",
     "text": [
      "6\n",
      "-1\n"
     ]
    }
   ],
   "source": [
    "my_string = \"hello world\"\n",
    "print(my_string.find(\"world\"))  # Output: 6\n",
    "print(my_string.find(\"python\"))  # Output: -1 (not found)\n"
   ]
  },
  {
   "cell_type": "code",
   "execution_count": 159,
   "id": "93e196b5",
   "metadata": {},
   "outputs": [
    {
     "name": "stdout",
     "output_type": "stream",
     "text": [
      "6\n"
     ]
    },
    {
     "ename": "ValueError",
     "evalue": "substring not found",
     "output_type": "error",
     "traceback": [
      "\u001b[1;31m---------------------------------------------------------------------------\u001b[0m",
      "\u001b[1;31mValueError\u001b[0m                                Traceback (most recent call last)",
      "Cell \u001b[1;32mIn[159], line 3\u001b[0m\n\u001b[0;32m      1\u001b[0m my_string \u001b[38;5;241m=\u001b[39m \u001b[38;5;124m\"\u001b[39m\u001b[38;5;124mhello world\u001b[39m\u001b[38;5;124m\"\u001b[39m\n\u001b[0;32m      2\u001b[0m \u001b[38;5;28mprint\u001b[39m(my_string\u001b[38;5;241m.\u001b[39mindex(\u001b[38;5;124m\"\u001b[39m\u001b[38;5;124mworld\u001b[39m\u001b[38;5;124m\"\u001b[39m))  \u001b[38;5;66;03m# Output: 6\u001b[39;00m\n\u001b[1;32m----> 3\u001b[0m \u001b[38;5;28mprint\u001b[39m(\u001b[43mmy_string\u001b[49m\u001b[38;5;241;43m.\u001b[39;49m\u001b[43mindex\u001b[49m\u001b[43m(\u001b[49m\u001b[38;5;124;43m\"\u001b[39;49m\u001b[38;5;124;43mpython\u001b[39;49m\u001b[38;5;124;43m\"\u001b[39;49m\u001b[43m)\u001b[49m)\n",
      "\u001b[1;31mValueError\u001b[0m: substring not found"
     ]
    }
   ],
   "source": [
    "my_string = \"hello world\"\n",
    "print(my_string.index(\"world\"))  # Output: 6\n",
    "print(my_string.index(\"python\"))  # Raises ValueError (not found)"
   ]
  },
  {
   "cell_type": "code",
   "execution_count": 160,
   "id": "355c3d34",
   "metadata": {},
   "outputs": [
    {
     "name": "stdout",
     "output_type": "stream",
     "text": [
      "2\n"
     ]
    }
   ],
   "source": [
    "my_string = \"hello hello world\"\n",
    "print(my_string.count(\"hello\"))  # Output: 2"
   ]
  },
  {
   "cell_type": "code",
   "execution_count": 162,
   "id": "9f3cfef7",
   "metadata": {},
   "outputs": [
    {
     "name": "stdout",
     "output_type": "stream",
     "text": [
      "3\n"
     ]
    }
   ],
   "source": [
    "my_string = \"hello hello world\"\n",
    "print(my_string.count(\"o\"))  # Output: 3"
   ]
  },
  {
   "cell_type": "markdown",
   "id": "7d3493d9",
   "metadata": {},
   "source": [
    "---"
   ]
  },
  {
   "cell_type": "markdown",
   "id": "9f40b188",
   "metadata": {},
   "source": [
    "\n"
   ]
  },
  {
   "cell_type": "markdown",
   "id": "9056e04d",
   "metadata": {},
   "source": [
    "\n"
   ]
  },
  {
   "cell_type": "markdown",
   "id": "14c1f56a",
   "metadata": {},
   "source": [
    "\n"
   ]
  },
  {
   "cell_type": "markdown",
   "id": "f643430e",
   "metadata": {},
   "source": [
    "`inline code`\n",
    "\n",
    "```python\n",
    "print(\"Hello, World!\")\n"
   ]
  },
  {
   "cell_type": "code",
   "execution_count": null,
   "id": "bb7b50c4",
   "metadata": {},
   "outputs": [],
   "source": []
  },
  {
   "cell_type": "markdown",
   "id": "9c76d7a2",
   "metadata": {},
   "source": []
  }
 ],
 "metadata": {
  "kernelspec": {
   "display_name": "Python 3 (ipykernel)",
   "language": "python",
   "name": "python3"
  },
  "language_info": {
   "codemirror_mode": {
    "name": "ipython",
    "version": 3
   },
   "file_extension": ".py",
   "mimetype": "text/x-python",
   "name": "python",
   "nbconvert_exporter": "python",
   "pygments_lexer": "ipython3",
   "version": "3.10.9"
  }
 },
 "nbformat": 4,
 "nbformat_minor": 5
}
