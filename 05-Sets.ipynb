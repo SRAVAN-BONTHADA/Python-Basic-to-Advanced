{
 "cells": [
  {
   "cell_type": "markdown",
   "id": "bbdc1c8e",
   "metadata": {},
   "source": [
    "- Sets in Python are collections of unique elements with no duplicate values. \n",
    "- The sets in Python are mutable, meaning you can modify the elements of a set, but the elements themselves must be immutable.\n",
    "- sets are implemented using hash tables, which provide efficient membership tests and operations such as union, intersection, difference, and symmetric difference.\n",
    "\n",
    "- Let's go through an end-to-end explanation of sets in Python, covering introductory concepts and gradually progressing to more advanced usage.\n",
    "\n"
   ]
  },
  {
   "cell_type": "markdown",
   "id": "adf5912b",
   "metadata": {},
   "source": [
    "---"
   ]
  },
  {
   "cell_type": "markdown",
   "id": "f0f3f581",
   "metadata": {},
   "source": [
    "### 1. **Creating a Set:**\n",
    "- You can create a set by enclosing a comma-separated sequence of elements within curly braces `{}`.\n"
   ]
  },
  {
   "cell_type": "code",
   "execution_count": 16,
   "id": "efa5beb1",
   "metadata": {},
   "outputs": [
    {
     "name": "stdout",
     "output_type": "stream",
     "text": [
      "{1, 2, 3, 4, 5}\n"
     ]
    }
   ],
   "source": [
    "my_set = set() # one way to create\n",
    "my_set = {1, 2, 3, 4, 5} # another way to create a set\n",
    "print(my_set)  # Output: {1, 2, 3, 4, 5}"
   ]
  },
  {
   "cell_type": "markdown",
   "id": "5633fe25",
   "metadata": {},
   "source": [
    "### 2. **Adding and Removing Elements:**\n",
    "- You can add elements to a set using the `add()` method and remove elements using the `remove()` or `discard()` methods.\n"
   ]
  },
  {
   "cell_type": "code",
   "execution_count": 17,
   "id": "ef29a8d7",
   "metadata": {},
   "outputs": [
    {
     "name": "stdout",
     "output_type": "stream",
     "text": [
      "{1, 2, 3, 4, 5, 6}\n",
      "{1, 3, 4, 5, 6}\n"
     ]
    }
   ],
   "source": [
    "my_set.add(6)\n",
    "print(my_set)  # Output: {1, 2, 3, 4, 5, 6}\n",
    "\n",
    "my_set.remove(2)\n",
    "print(my_set)  # Output: {1, 3, 4, 5, 6}\n",
    "\n"
   ]
  },
  {
   "cell_type": "code",
   "execution_count": 32,
   "id": "3446e258",
   "metadata": {},
   "outputs": [
    {
     "ename": "KeyError",
     "evalue": "3",
     "output_type": "error",
     "traceback": [
      "\u001b[1;31m---------------------------------------------------------------------------\u001b[0m",
      "\u001b[1;31mKeyError\u001b[0m                                  Traceback (most recent call last)",
      "Cell \u001b[1;32mIn[32], line 1\u001b[0m\n\u001b[1;32m----> 1\u001b[0m \u001b[43mmy_set\u001b[49m\u001b[38;5;241;43m.\u001b[39;49m\u001b[43mremove\u001b[49m\u001b[43m(\u001b[49m\u001b[38;5;241;43m3\u001b[39;49m\u001b[43m)\u001b[49m\n",
      "\u001b[1;31mKeyError\u001b[0m: 3"
     ]
    }
   ],
   "source": [
    "my_set.remove(3) # KeyError: 3 , this item 3 is not available in the set so raised KeyError"
   ]
  },
  {
   "cell_type": "code",
   "execution_count": 33,
   "id": "680b1d7e",
   "metadata": {},
   "outputs": [],
   "source": [
    "my_set.discard(3) # if item was not present in set will through keyerror \n",
    "#   but using discard function we can skip error and interpreter free"
   ]
  },
  {
   "cell_type": "code",
   "execution_count": 34,
   "id": "e43449fa",
   "metadata": {},
   "outputs": [
    {
     "data": {
      "text/plain": [
       "{2, 4, 5, 6}"
      ]
     },
     "execution_count": 34,
     "metadata": {},
     "output_type": "execute_result"
    }
   ],
   "source": [
    "my_set"
   ]
  },
  {
   "cell_type": "markdown",
   "id": "c8dba719",
   "metadata": {},
   "source": [
    "### 3. **Set Operations:**\n",
    "- Sets support various operations like union, intersection, difference, and symmetric difference.\n",
    "\n"
   ]
  },
  {
   "cell_type": "code",
   "execution_count": 27,
   "id": "830f28ae",
   "metadata": {},
   "outputs": [
    {
     "name": "stdout",
     "output_type": "stream",
     "text": [
      "{1, 2, 3, 4, 5}\n",
      "{3}\n",
      "{1, 2}\n",
      "{4, 5}\n",
      "{1, 2, 4, 5}\n"
     ]
    }
   ],
   "source": [
    "set1 = {1, 2, 3}\n",
    "set2 = {3, 4, 5}\n",
    "\n",
    "# Union\n",
    "union_set = set1.union(set2)\n",
    "print(union_set)  # Output: {1, 2, 3, 4, 5}\n",
    "\n",
    "# Intersection\n",
    "intersection_set = set1.intersection(set2)\n",
    "print(intersection_set)  # Output: {3}\n",
    "\n",
    "# Difference\n",
    "difference_set1 = set1.difference(set2)\n",
    "print(difference_set1)  # Output: {1, 2}\n",
    "\n",
    "difference_set2 = set2.difference(set1)\n",
    "print(difference_set2)  # Output: {4, 5}\n",
    "\n",
    "\n",
    "# Symmetric Difference\n",
    "symmetric_difference_set = set1.symmetric_difference(set2)\n",
    "print(symmetric_difference_set)  # Output: {1, 2, 4, 5}"
   ]
  },
  {
   "cell_type": "markdown",
   "id": "d3470ac1",
   "metadata": {},
   "source": [
    "### 4. **Checking Membership and Length:**\n",
    "- You can check for membership using the `in` keyword and find the length using `len()`.\n"
   ]
  },
  {
   "cell_type": "code",
   "execution_count": 19,
   "id": "5f6dca57",
   "metadata": {},
   "outputs": [
    {
     "name": "stdout",
     "output_type": "stream",
     "text": [
      "True\n",
      "3\n"
     ]
    }
   ],
   "source": [
    "print(3 in set1)  # Output: True\n",
    "print(len(set1))  # Output: 3"
   ]
  },
  {
   "cell_type": "markdown",
   "id": "f3d6bca9",
   "metadata": {},
   "source": [
    "### 5. **Frozen Sets:**\n",
    "- A frozen set is an immutable version of a set. Once created, elements cannot be added or removed.\n"
   ]
  },
  {
   "cell_type": "code",
   "execution_count": 20,
   "id": "3fbe5622",
   "metadata": {},
   "outputs": [
    {
     "name": "stdout",
     "output_type": "stream",
     "text": [
      "frozenset({1, 2, 3})\n"
     ]
    }
   ],
   "source": [
    "frozen_set = frozenset([1, 2, 3])\n",
    "print(frozen_set)  # Output: frozenset({1, 2, 3})"
   ]
  },
  {
   "cell_type": "markdown",
   "id": "502320ad",
   "metadata": {},
   "source": [
    "### 6. **Set Comprehensions:**\n",
    "- Like lists and dictionaries, sets also support comprehensions for efficient creation.\n",
    "\n"
   ]
  },
  {
   "cell_type": "code",
   "execution_count": 21,
   "id": "6e696841",
   "metadata": {},
   "outputs": [
    {
     "name": "stdout",
     "output_type": "stream",
     "text": [
      "{0, 1, 64, 4, 36, 9, 16, 49, 81, 25}\n"
     ]
    }
   ],
   "source": [
    "squares = {x**2 for x in range(10)}\n",
    "print(squares)  # Output: {0, 1, 4, 9, 16, 25, 36, 49, 64, 81}"
   ]
  },
  {
   "cell_type": "markdown",
   "id": "92f8abcf",
   "metadata": {},
   "source": [
    "### 7. **Advanced Operations:**\n",
    "- Sets in Python support additional methods and operations like `clear()`, `pop()`, `update()`, etc. which you can explore further as needed.\n",
    "\n"
   ]
  },
  {
   "cell_type": "code",
   "execution_count": 22,
   "id": "de2718bf",
   "metadata": {},
   "outputs": [
    {
     "name": "stdout",
     "output_type": "stream",
     "text": [
      "set()\n",
      "{2, 3}\n",
      "{2, 3, 4, 5, 6}\n"
     ]
    }
   ],
   "source": [
    "my_set.clear()  # Clears all elements from the set\n",
    "print(my_set)  # Output: set()\n",
    "\n",
    "my_set = {1, 2, 3}\n",
    "my_set.pop()  # Removes and returns an arbitrary element\n",
    "print(my_set)  # Output: {2, 3}\n",
    "\n",
    "my_set.update({4, 5, 6})  # Updates the set with elements from another set\n",
    "print(my_set)  # Output: {2, 3, 4, 5, 6}"
   ]
  },
  {
   "cell_type": "code",
   "execution_count": null,
   "id": "b146d363",
   "metadata": {},
   "outputs": [],
   "source": []
  }
 ],
 "metadata": {
  "kernelspec": {
   "display_name": "Python 3 (ipykernel)",
   "language": "python",
   "name": "python3"
  },
  "language_info": {
   "codemirror_mode": {
    "name": "ipython",
    "version": 3
   },
   "file_extension": ".py",
   "mimetype": "text/x-python",
   "name": "python",
   "nbconvert_exporter": "python",
   "pygments_lexer": "ipython3",
   "version": "3.10.9"
  }
 },
 "nbformat": 4,
 "nbformat_minor": 5
}
