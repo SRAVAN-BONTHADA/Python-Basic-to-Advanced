{
 "cells": [
  {
   "cell_type": "markdown",
   "id": "49336e82",
   "metadata": {},
   "source": [
    "- Python is a widely used general-purpose, high level programming language(Means human friendly lang-c,c++,java,python..etc).\n",
    "- Low level language means its machine friendly example :- Assembly language(ADD 1695 , mic/8085 chip) and Machine language(0s,1s)\n",
    "- It was created by Guido van Rossum in 1991 and further developed by the Python Software Foundation. It was designed with an emphasis on code readability\n",
    "- and its syntax allows programmers to express their concepts in fewer lines of code."
   ]
  },
  {
   "cell_type": "markdown",
   "id": "84cd8a5b",
   "metadata": {},
   "source": [
    "---"
   ]
  },
  {
   "cell_type": "code",
   "execution_count": 1,
   "id": "d37fa858",
   "metadata": {},
   "outputs": [],
   "source": [
    "# In Python, comments begin with a #. This statement is ignored by the interpreter and serves as documentation for our code."
   ]
  },
  {
   "cell_type": "markdown",
   "id": "2ea32024",
   "metadata": {},
   "source": [
    "In Python, an interpreter is a program that translates and executes the source code written in Python programming language directly. Unlike compiled languages like C or C++, where the source code is transformed into machine-executable code (binary) before running, Python source code is translated and executed line by line by the Python interpreter.\n",
    "\n",
    "The Python interpreter reads the Python source code, interprets each statement, and executes the corresponding actions. It translates the high-level Python code into low-level instructions that the computer's hardware can understand and execute. This process happens in real-time as the code is being run.\n",
    "\n",
    "Here are some key points about the Python interpreter:\n",
    "\n",
    "1. **Execution Line by Line:** The Python interpreter reads and executes the Python code line by line, following the order of the statements in the script.\n",
    "\n",
    "2. **Dynamic Typing:** Python is dynamically typed, which means you don't need to declare the data types of variables explicitly. The interpreter infers the types based on the assigned values during execution.\n",
    "\n",
    "3. **Interpretation vs. Compilation:**\n",
    "   - **Interpretation:** Python code is translated into bytecode (an intermediate representation) by the Python compiler. The bytecode is then executed by the Python interpreter.\n",
    "   - **Compilation:** The Python interpreter translates the source code into bytecode, which is platform-independent and can be executed on any system with a Python interpreter.\n",
    "\n",
    "4. **Interactive Mode:** The Python interpreter also supports an interactive mode, where you can type Python statements directly and get immediate results.\n",
    "\n",
    "5. **Error Handling:** The interpreter provides detailed error messages and traceback information when it encounters syntax errors or other issues in the code.\n",
    "\n",
    "In summary, the Python interpreter is a crucial component of the Python programming environment, allowing developers to write, run, and test Python code efficiently. It is responsible for executing Python programs and providing the results of the code execution."
   ]
  },
  {
   "cell_type": "code",
   "execution_count": null,
   "id": "bcc864f4",
   "metadata": {},
   "outputs": [],
   "source": []
  },
  {
   "cell_type": "markdown",
   "id": "a013e57f",
   "metadata": {},
   "source": [
    "The classical Hello World program illustrating the relative verbosity of a Java Program and Python Program\n"
   ]
  },
  {
   "cell_type": "code",
   "execution_count": null,
   "id": "66453279",
   "metadata": {},
   "outputs": [],
   "source": [
    "# public class HelloWorld  # Uses braces for structuring code(like for Loops,functions,class)\n",
    "# {\n",
    "# public static void main (String[] args)\n",
    "# {\n",
    "# \tSystem.out.println(\"Hello, world!\");\n",
    "# }\n",
    "# }\n"
   ]
  },
  {
   "cell_type": "code",
   "execution_count": 2,
   "id": "282d4e2d",
   "metadata": {},
   "outputs": [
    {
     "name": "stdout",
     "output_type": "stream",
     "text": [
      "i value is 10\n"
     ]
    }
   ],
   "source": [
    "i = 10\n",
    "if i == 10:\n",
    "    print('i value is 10') # Uses indentation to structring the code"
   ]
  },
  {
   "cell_type": "raw",
   "id": "234bd3c1",
   "metadata": {},
   "source": [
    "1.Slow speed of execution compared to C,C++\n",
    "2.Absence from mobile computing and browsers\n",
    "3.For the C,C++ programmers switching to python can be irritating as the language requires proper indentation of code. Certain 4.variable names commonly used like sum are functions in python. So C, C++ programmers have to look out for these."
   ]
  },
  {
   "cell_type": "raw",
   "id": "20353024",
   "metadata": {},
   "source": [
    "Organizations using Python : \n",
    "\n",
    "Google(Components of Google spider and Search Engine) \n",
    "Yahoo(Maps) \n",
    "YouTube \n",
    "Mozilla \n",
    "Dropbox \n",
    "Microsoft \n",
    "Cisco \n",
    "Spotify \n",
    "Quora....and so."
   ]
  },
  {
   "cell_type": "raw",
   "id": "006d5395",
   "metadata": {},
   "source": [
    "So before moving on further.. let’s do the most popular and boring  ‘HelloWorld’ tradition 😛"
   ]
  },
  {
   "cell_type": "code",
   "execution_count": 4,
   "id": "694c3cd3",
   "metadata": {},
   "outputs": [
    {
     "name": "stdout",
     "output_type": "stream",
     "text": [
      "Hello guys welcome to the python World , most easy language and most widely used language\n"
     ]
    }
   ],
   "source": [
    "print('Hello guys welcome to the python World , most easy language and most widely used language')"
   ]
  },
  {
   "cell_type": "markdown",
   "id": "8cb418f1",
   "metadata": {},
   "source": [
    "- In other programming languages like C, C++, and Java, \n",
    "- you will need to declare the type of variables but in Python you don’t need to do that. \n",
    "- Just type in the variable and when values will be given to it,\n",
    "- then it will automatically know whether the value given would be an int, float, or char or even a String."
   ]
  },
  {
   "cell_type": "code",
   "execution_count": 6,
   "id": "fa49f4bc",
   "metadata": {},
   "outputs": [
    {
     "name": "stdout",
     "output_type": "stream",
     "text": [
      "Integer ; no need to mention integer or float or character or intialize like other languages : 3\n",
      "4.5\n",
      "helloworld\n"
     ]
    }
   ],
   "source": [
    "# Python program to declare variables\n",
    "myNumber = 3 # this is '3' number called integer (Whole number)\n",
    "print('Integer ; no need to mention integer or float or character or intialize like other languages :',myNumber)\n",
    "\n",
    "myNumber2 = 4.5 # this is 4.5 number called float (Decimal number ; which number have '.' after value(.5,.3,.7..1.2,3.5,..etc))\n",
    "print(myNumber2)\n",
    "\n",
    "myNumber =\"helloworld\" # Combination of characterstics called String '' + \n",
    "#'' + '' + '' (' Empty space also consider  like one character')\n",
    "print(myNumber)"
   ]
  },
  {
   "cell_type": "code",
   "execution_count": 9,
   "id": "36f79b3a",
   "metadata": {},
   "outputs": [
    {
     "name": "stdout",
     "output_type": "stream",
     "text": [
      "Hahaha import also a keyword :  ['False', 'None', 'True', 'and', 'as', 'assert', 'async', 'await', 'break', 'class', 'continue', 'def', 'del', 'elif', 'else', 'except', 'finally', 'for', 'from', 'global', 'if', 'import', 'in', 'is', 'lambda', 'nonlocal', 'not', 'or', 'pass', 'raise', 'return', 'try', 'while', 'with', 'yield']\n"
     ]
    }
   ],
   "source": [
    "import keyword # all keys are avaliable in keyword library \n",
    "print('Hahaha import also a keyword : ',keyword.kwlist) \n"
   ]
  },
  {
   "cell_type": "markdown",
   "id": "73b13d4e",
   "metadata": {},
   "source": [
    "### Taking input in Python"
   ]
  },
  {
   "cell_type": "markdown",
   "id": "9db90af8",
   "metadata": {},
   "source": [
    "###### Developers often have a need to interact with users, either to get data or to provide some sort of result.\n",
    "###### Most programs today use a dialog box as a way of asking the user to provide some type of input. While Python provides us with two inbuilt functions to read the input from the keyboard. "
   ]
  },
  {
   "cell_type": "code",
   "execution_count": 11,
   "id": "785390a7",
   "metadata": {},
   "outputs": [
    {
     "name": "stdout",
     "output_type": "stream",
     "text": [
      "I am a ghost to kill you come inside My Room :Comming\n",
      "Enter your name :i am your dad\n",
      "Enter ATM pincode number :1234\n"
     ]
    },
    {
     "data": {
      "text/plain": [
       "1234"
      ]
     },
     "execution_count": 11,
     "metadata": {},
     "output_type": "execute_result"
    }
   ],
   "source": [
    "input('I am a ghost to kill you come inside My Room :') # giving text as a input to computer\n",
    "input('Enter your name :') # Entering name \n",
    "int(input('Enter ATM pincode number :')) # giving numbers(int,float) as a input to computer"
   ]
  },
  {
   "cell_type": "markdown",
   "id": "65342a22",
   "metadata": {},
   "source": [
    "###### By default Python‘s print() function ends with a newline.A programmer with C/C++ background may wonder how to print without a newline. Python’s print() function comes with a parameter called ‘end‘. By default, the value of this parameter is ‘\\n’, i.e. the new line character. "
   ]
  },
  {
   "cell_type": "code",
   "execution_count": 53,
   "id": "2f01240d",
   "metadata": {},
   "outputs": [
    {
     "name": "stdout",
     "output_type": "stream",
     "text": [
      "Sravan kumar\n",
      "Bonthada\n"
     ]
    }
   ],
   "source": [
    "print('Sravan kumar')\n",
    "print('Bonthada')"
   ]
  },
  {
   "cell_type": "code",
   "execution_count": 17,
   "id": "4a83faa9",
   "metadata": {},
   "outputs": [],
   "source": [
    "# But i want to print sravan kumar bonthada at time in one line of code"
   ]
  },
  {
   "cell_type": "code",
   "execution_count": 20,
   "id": "b6a1f7ff",
   "metadata": {},
   "outputs": [
    {
     "name": "stdout",
     "output_type": "stream",
     "text": [
      "Sravan kumar Bonthada"
     ]
    }
   ],
   "source": [
    "print('Sravan kumar',end = ' ') # by default print('have \\n') means it will automaticall goes to next line of code\n",
    "print('Bonthada',end = '') # now i am removing /n and assing ('empty space to end = '')"
   ]
  },
  {
   "cell_type": "code",
   "execution_count": 52,
   "id": "496e27a7",
   "metadata": {},
   "outputs": [
    {
     "name": "stdout",
     "output_type": "stream",
     "text": [
      "BSK\n",
      "28/07/1999\n",
      "SRAVANI-SRAVAN\n"
     ]
    }
   ],
   "source": [
    "#code for disabling the softspace feature\n",
    "print('B','S','K', sep='')\n",
    "\n",
    "#for formatting a date\n",
    "print('28','07','1999', sep='/')\n",
    "\n",
    "#another example\n",
    "print('SRAVANI','SRAVAN', sep='-')\n"
   ]
  },
  {
   "cell_type": "code",
   "execution_count": 29,
   "id": "e7815426",
   "metadata": {},
   "outputs": [
    {
     "name": "stdout",
     "output_type": "stream",
     "text": [
      "G,FG\n",
      "09-12-2016\n",
      "SRAVANI/SRAVAN@BONTHADA\n"
     ]
    }
   ],
   "source": [
    "print('G','F', sep=',', end='')\n",
    "print('G') # this is part\n",
    "#\\n provides new line after printing the year\n",
    "print('09','12','2016', sep='-', end='\\n')\n",
    "\n",
    "print('SRAVANI','SRAVAN', sep='/', end='@')\n",
    "print('BONTHADA')\n"
   ]
  },
  {
   "cell_type": "code",
   "execution_count": 37,
   "id": "05b407df",
   "metadata": {},
   "outputs": [
    {
     "name": "stdout",
     "output_type": "stream",
     "text": [
      "hihihi hah/ahah,hahahah,..."
     ]
    }
   ],
   "source": [
    "print('hihihi',sep = '/',end = ' ')\n",
    "print('hah','ahah',sep = '/',end = ',')\n",
    "print('hahahah',end = ',...')"
   ]
  },
  {
   "cell_type": "code",
   "execution_count": 38,
   "id": "2a01342f",
   "metadata": {},
   "outputs": [
    {
     "name": "stdout",
     "output_type": "stream",
     "text": [
      "Geeks :  1, Portal :  5.33\n",
      "Total students : 240, Boys : 120\n",
      "    031\n",
      " 3.561E+02\n"
     ]
    }
   ],
   "source": [
    "# Python program showing how to use string modulo operator(%)\n",
    "\n",
    "print(\"peeks : %2d, Portal : %5.2f\" % (1, 05.333))\n",
    "\n",
    "print(\"Total students : %3d, Boys : %2d\" % (240, 120)) # print integer value\n",
    "\n",
    "print(\"%7.3o\" % (25)) # print octal value\n",
    "\n",
    "print(\"%10.3E\" % (356.08977)) # print exponential value\n"
   ]
  },
  {
   "cell_type": "code",
   "execution_count": 51,
   "id": "dab58304",
   "metadata": {},
   "outputs": [
    {
     "name": "stdout",
     "output_type": "stream",
     "text": [
      "12.00\n",
      "24\n",
      "036\n"
     ]
    }
   ],
   "source": [
    "print('%.2f' % 12)\n",
    "print('%d' % 24)\n",
    "print('%.3o' % (30))"
   ]
  },
  {
   "cell_type": "code",
   "execution_count": null,
   "id": "eb35686f",
   "metadata": {},
   "outputs": [],
   "source": []
  }
 ],
 "metadata": {
  "kernelspec": {
   "display_name": "Python 3 (ipykernel)",
   "language": "python",
   "name": "python3"
  },
  "language_info": {
   "codemirror_mode": {
    "name": "ipython",
    "version": 3
   },
   "file_extension": ".py",
   "mimetype": "text/x-python",
   "name": "python",
   "nbconvert_exporter": "python",
   "pygments_lexer": "ipython3",
   "version": "3.10.9"
  }
 },
 "nbformat": 4,
 "nbformat_minor": 5
}
