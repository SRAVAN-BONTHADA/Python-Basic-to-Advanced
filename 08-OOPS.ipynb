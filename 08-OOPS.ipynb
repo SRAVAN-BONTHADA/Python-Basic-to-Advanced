{
 "cells": [
  {
   "cell_type": "markdown",
   "id": "2f0ffcd3",
   "metadata": {},
   "source": [
    "### Functions"
   ]
  },
  {
   "cell_type": "code",
   "execution_count": 15,
   "id": "860868b3",
   "metadata": {},
   "outputs": [
    {
     "data": {
      "text/plain": [
       "30"
      ]
     },
     "execution_count": 15,
     "metadata": {},
     "output_type": "execute_result"
    }
   ],
   "source": [
    "def Add_two_numbers(a,b): # Here by using 'def' key word we can create a function in python\n",
    "    return a+b # 'a ' and 'b' are parametars for doing operation\n",
    "\n",
    "# Add_two_numbers ; this is the function\n",
    "\n",
    "Add_two_numbers(10,20) # 'Add_two_numbers' by calling the name of function ;intepreter will start to code; and do all lines of code"
   ]
  },
  {
   "cell_type": "code",
   "execution_count": null,
   "id": "460c60e8",
   "metadata": {},
   "outputs": [],
   "source": []
  },
  {
   "cell_type": "markdown",
   "id": "9c5751a6",
   "metadata": {},
   "source": [
    "Object-Oriented Programming (OOP) is a programming paradigm that revolves around the concept of \"objects,\" which can be instances of classes, and the interactions between these objects.\n",
    "The main principles of OOP are encapsulation, inheritance, and polymorphism. Let's explore these concepts with examples in Python.\n"
   ]
  },
  {
   "cell_type": "code",
   "execution_count": null,
   "id": "a8983e9a",
   "metadata": {},
   "outputs": [],
   "source": []
  },
  {
   "cell_type": "markdown",
   "id": "5cf31007",
   "metadata": {},
   "source": [
    "### 2. Encapsulation:\n",
    "Encapsulation is the concept of bundling data (attributes) and methods (functions) that operate on that data within a single unit (class). It helps in controlling access to the data by defining access modifiers (e.g., public, private, protected)."
   ]
  },
  {
   "cell_type": "code",
   "execution_count": 2,
   "id": "5fcdd565",
   "metadata": {},
   "outputs": [
    {
     "name": "stdout",
     "output_type": "stream",
     "text": [
      "Current balance: 1000\n",
      "Updated balance: 1500\n"
     ]
    }
   ],
   "source": [
    "class BankAccount:\n",
    "    def __init__(self, balance):\n",
    "        self.__balance = balance  # Private attribute\n",
    "\n",
    "    def get_balance(self):\n",
    "        return self.__balance\n",
    "\n",
    "    def deposit(self, amount):\n",
    "        self.__balance += amount\n",
    "\n",
    "    def withdraw(self, amount):\n",
    "        if amount <= self.__balance:\n",
    "            self.__balance -= amount\n",
    "        else:\n",
    "            print(\"Insufficient funds.\")\n",
    "\n",
    "# Creating an object of the BankAccount class\n",
    "account = BankAccount(1000)\n",
    "\n",
    "# Accessing and modifying the balance through methods\n",
    "print(\"Current balance:\", account.get_balance())  # Output: Current balance: 1000\n",
    "account.deposit(500)\n",
    "print(\"Updated balance:\", account.get_balance())  # Output: Updated balance: 1500"
   ]
  },
  {
   "cell_type": "code",
   "execution_count": 10,
   "id": "e4576501",
   "metadata": {},
   "outputs": [
    {
     "ename": "AttributeError",
     "evalue": "'BankAccount' object has no attribute '__balance'",
     "output_type": "error",
     "traceback": [
      "\u001b[1;31m---------------------------------------------------------------------------\u001b[0m",
      "\u001b[1;31mAttributeError\u001b[0m                            Traceback (most recent call last)",
      "Cell \u001b[1;32mIn[10], line 1\u001b[0m\n\u001b[1;32m----> 1\u001b[0m \u001b[43maccount\u001b[49m\u001b[38;5;241;43m.\u001b[39;49m\u001b[43m__balance\u001b[49m\n",
      "\u001b[1;31mAttributeError\u001b[0m: 'BankAccount' object has no attribute '__balance'"
     ]
    }
   ],
   "source": [
    "account.__balance # AttributeError: 'BankAccount' object has no attribute '__balance' \"We can't reassign the variable\""
   ]
  },
  {
   "cell_type": "markdown",
   "id": "d6371796",
   "metadata": {},
   "source": [
    "### 3. Inheritance:\n",
    "Inheritance allows a class (child/subclass) to inherit attributes and methods from another class (parent/superclass). It promotes code reusability and supports the \"is-a\" relationship."
   ]
  },
  {
   "cell_type": "markdown",
   "id": "614c24db",
   "metadata": {},
   "source": [
    " Let's consider a real-time example involving a hierarchy of employees in a company, where we have a base class Employee and two subclasses: Manager and Developer."
   ]
  },
  {
   "cell_type": "code",
   "execution_count": 12,
   "id": "95f4191c",
   "metadata": {},
   "outputs": [
    {
     "name": "stdout",
     "output_type": "stream",
     "text": [
      "Employee ID: 1001, Name: John Doe, Department: IT Department, Position: Manager\n",
      "Employee ID: 1002, Name: Alice Smith, Programming Language: Python, Position: Developer\n"
     ]
    }
   ],
   "source": [
    "class Employee:\n",
    "    def __init__(self, name, employee_id):\n",
    "        self.name = name\n",
    "        self.employee_id = employee_id\n",
    "\n",
    "    def display(self):\n",
    "        return f\"Employee ID: {self.employee_id}, Name: {self.name}\"\n",
    "\n",
    "\n",
    "class Manager(Employee):\n",
    "    def __init__(self, name, employee_id, department):\n",
    "        super().__init__(name, employee_id)\n",
    "        self.department = department\n",
    "\n",
    "    def display(self):\n",
    "        return f\"{super().display()}, Department: {self.department}, Position: Manager\"\n",
    "\n",
    "\n",
    "class Developer(Employee):\n",
    "    def __init__(self, name, employee_id, programming_language):\n",
    "        super().__init__(name, employee_id)\n",
    "        self.programming_language = programming_language\n",
    "\n",
    "    def display(self):\n",
    "        return f\"{super().display()}, Programming Language: {self.programming_language}, Position: Developer\"\n",
    "\n",
    "\n",
    "# Creating instances of the classes\n",
    "manager = Manager(\"John Doe\", 1001, \"IT Department\")\n",
    "developer = Developer(\"Alice Smith\", 1002, \"Python\")\n",
    "\n",
    "# Using inherited methods\n",
    "print(manager.display())     # Output: Employee ID: 1001, Name: John Doe, Department: IT Department, Position: Manager\n",
    "print(developer.display())   # Output: Employee ID: 1002, Name: Alice Smith, Programming Language: Python, Position: Developer"
   ]
  },
  {
   "cell_type": "markdown",
   "id": "aad79d28",
   "metadata": {},
   "source": [
    "- In this example, we have a base class Employee representing a general employee with a name and employee ID. \n",
    "- We then have two subclasses, Manager and Developer, which inherit from Employee. \n",
    "- Each subclass has its own specific attributes and methods in addition to the inherited ones.\n",
    "\n",
    "Manager has a department and a position of \"Manager.\"\n",
    "Developer has a programming language and a position of \"Developer.\""
   ]
  },
  {
   "cell_type": "markdown",
   "id": "193fb08e",
   "metadata": {},
   "source": [
    "### Polymorphism:\n",
    "\n",
    "- Polymorphism allows objects of different classes to be treated as objects of a common superclass. \n",
    "- It enables method overriding, where a subclass can provide its own implementation of a method defined in the superclass."
   ]
  },
  {
   "cell_type": "code",
   "execution_count": 13,
   "id": "c9b7c706",
   "metadata": {},
   "outputs": [
    {
     "name": "stdout",
     "output_type": "stream",
     "text": [
      "78.5\n",
      "24\n"
     ]
    }
   ],
   "source": [
    "class Shape:\n",
    "    def area(self):\n",
    "        pass\n",
    "\n",
    "class Circle(Shape):\n",
    "    def __init__(self, radius):\n",
    "        self.radius = radius\n",
    "\n",
    "    def area(self):\n",
    "        return 3.14 * self.radius ** 2\n",
    "\n",
    "class Rectangle(Shape):\n",
    "    def __init__(self, length, width):\n",
    "        self.length = length\n",
    "        self.width = width\n",
    "\n",
    "    def area(self):\n",
    "        return self.length * self.width\n",
    "\n",
    "circle = Circle(5)\n",
    "rectangle = Rectangle(4, 6)\n",
    "\n",
    "print(circle.area())     # Output: 78.5\n",
    "print(rectangle.area())  # Output: 24"
   ]
  },
  {
   "cell_type": "code",
   "execution_count": null,
   "id": "f5a4f1fb",
   "metadata": {},
   "outputs": [],
   "source": []
  }
 ],
 "metadata": {
  "kernelspec": {
   "display_name": "Python 3 (ipykernel)",
   "language": "python",
   "name": "python3"
  },
  "language_info": {
   "codemirror_mode": {
    "name": "ipython",
    "version": 3
   },
   "file_extension": ".py",
   "mimetype": "text/x-python",
   "name": "python",
   "nbconvert_exporter": "python",
   "pygments_lexer": "ipython3",
   "version": "3.10.9"
  }
 },
 "nbformat": 4,
 "nbformat_minor": 5
}
